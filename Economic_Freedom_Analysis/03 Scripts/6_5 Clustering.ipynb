{
 "cells": [
  {
   "cell_type": "markdown",
   "id": "3ff15eb9",
   "metadata": {},
   "source": [
    "# 6.5 Economic Freedom Data: Clustering"
   ]
  },
  {
   "cell_type": "markdown",
   "id": "c75b6e69",
   "metadata": {},
   "source": [
    "## This Script Contains the Following points\n",
    "\n",
    "### 1. Importing Libraries\n",
    "### 2. Importing  and Checking Data sets\n",
    "### 3. Wrangle data to correct format\n",
    "### 4. Create elbow curve\n",
    "### 5. K-means clustering \n",
    "### 6. Plots to explore the data in light of the clusters\n",
    "### 7. Descriptive Stats for each cluster\n"
   ]
  },
  {
   "cell_type": "markdown",
   "id": "51496707",
   "metadata": {},
   "source": [
    "### 1. Importing Libraries"
   ]
  },
  {
   "cell_type": "code",
   "execution_count": 1,
   "id": "2984e6f7",
   "metadata": {},
   "outputs": [],
   "source": [
    "import pandas as pd\n",
    "import numpy as np\n",
    "import seaborn as sns\n",
    "import matplotlib\n",
    "import matplotlib.pyplot as plt\n",
    "import os\n",
    "import sklearn\n",
    "from sklearn.cluster import KMeans # Here is where you import the k-means algorithm from scikit-learn.\n",
    "import pylab as pl # PyLab is a convenience module that bulk imports matplotlib."
   ]
  },
  {
   "cell_type": "code",
   "execution_count": 2,
   "id": "e3fbb83d",
   "metadata": {},
   "outputs": [],
   "source": [
    "# This command propts matplotlib visuals to appear in the notebook \n",
    "\n",
    "%matplotlib inline"
   ]
  },
  {
   "cell_type": "markdown",
   "id": "8dd968e3",
   "metadata": {},
   "source": [
    "### 2. Importing and Checking Data sets"
   ]
  },
  {
   "cell_type": "code",
   "execution_count": 3,
   "id": "d8f857d2",
   "metadata": {},
   "outputs": [],
   "source": [
    "#Define path\n",
    "path = r'/Users/mistystone/Library/CloudStorage/OneDrive-Personal/Documents/CF_Data_Ach6_Dashboard/Economic_Freedom_Analysis/'"
   ]
  },
  {
   "cell_type": "code",
   "execution_count": 4,
   "id": "a61f558a",
   "metadata": {},
   "outputs": [],
   "source": [
    "#Import Data\n",
    "df_Recent = pd.read_pickle(os.path.join(path, '02 Data', 'Prepared Data', 'Subset_Recent_Year_Data.pkl'))"
   ]
  },
  {
   "cell_type": "code",
   "execution_count": 5,
   "id": "a8c257bf",
   "metadata": {},
   "outputs": [
    {
     "data": {
      "text/html": [
       "<div>\n",
       "<style scoped>\n",
       "    .dataframe tbody tr th:only-of-type {\n",
       "        vertical-align: middle;\n",
       "    }\n",
       "\n",
       "    .dataframe tbody tr th {\n",
       "        vertical-align: top;\n",
       "    }\n",
       "\n",
       "    .dataframe thead th {\n",
       "        text-align: right;\n",
       "    }\n",
       "</style>\n",
       "<table border=\"1\" class=\"dataframe\">\n",
       "  <thead>\n",
       "    <tr style=\"text-align: right;\">\n",
       "      <th></th>\n",
       "      <th>Country</th>\n",
       "      <th>Economic Freedom Summary Index</th>\n",
       "      <th>Rank</th>\n",
       "      <th>Quartile</th>\n",
       "      <th>GDP_PerCapita</th>\n",
       "      <th>GDP_2010Prices_Millions</th>\n",
       "      <th>Pop_mill</th>\n",
       "      <th>Pop_male_mill</th>\n",
       "      <th>Pop_female_mill</th>\n",
       "      <th>Pop_0_14_per</th>\n",
       "      <th>...</th>\n",
       "      <th>Enroll_Ratio_Primary_Male</th>\n",
       "      <th>Enroll_Ratio_Secondary_Female</th>\n",
       "      <th>Enroll_Ratio_Secondary_Male</th>\n",
       "      <th>Enroll_Ratio_UpperSecondary_Female</th>\n",
       "      <th>Enroll_Ratio_UpperSecondary_Male</th>\n",
       "      <th>Continent</th>\n",
       "      <th>Income group</th>\n",
       "      <th>Landlocked?</th>\n",
       "      <th>LDC?</th>\n",
       "      <th>English?</th>\n",
       "    </tr>\n",
       "  </thead>\n",
       "  <tbody>\n",
       "    <tr>\n",
       "      <th>0</th>\n",
       "      <td>Albania</td>\n",
       "      <td>7.60</td>\n",
       "      <td>31.0</td>\n",
       "      <td>1.0</td>\n",
       "      <td>5181.0</td>\n",
       "      <td>12541.0</td>\n",
       "      <td>2.84</td>\n",
       "      <td>1.42</td>\n",
       "      <td>1.42</td>\n",
       "      <td>16.1</td>\n",
       "      <td>...</td>\n",
       "      <td>100.4</td>\n",
       "      <td>76.5</td>\n",
       "      <td>79.2</td>\n",
       "      <td>56.8</td>\n",
       "      <td>62.1</td>\n",
       "      <td>Europe</td>\n",
       "      <td>Upper middle income</td>\n",
       "      <td>0</td>\n",
       "      <td>0</td>\n",
       "      <td>0</td>\n",
       "    </tr>\n",
       "    <tr>\n",
       "      <th>1</th>\n",
       "      <td>Algeria</td>\n",
       "      <td>4.82</td>\n",
       "      <td>157.0</td>\n",
       "      <td>4.0</td>\n",
       "      <td>3368.0</td>\n",
       "      <td>168331.0</td>\n",
       "      <td>44.90</td>\n",
       "      <td>22.86</td>\n",
       "      <td>22.04</td>\n",
       "      <td>30.6</td>\n",
       "      <td>...</td>\n",
       "      <td>111.7</td>\n",
       "      <td>82.7</td>\n",
       "      <td>75.5</td>\n",
       "      <td>62.4</td>\n",
       "      <td>42.3</td>\n",
       "      <td>Africa</td>\n",
       "      <td>Lower middle income</td>\n",
       "      <td>0</td>\n",
       "      <td>0</td>\n",
       "      <td>0</td>\n",
       "    </tr>\n",
       "    <tr>\n",
       "      <th>2</th>\n",
       "      <td>Angola</td>\n",
       "      <td>5.38</td>\n",
       "      <td>149.0</td>\n",
       "      <td>4.0</td>\n",
       "      <td>1896.0</td>\n",
       "      <td>105625.0</td>\n",
       "      <td>35.59</td>\n",
       "      <td>17.59</td>\n",
       "      <td>18.00</td>\n",
       "      <td>45.0</td>\n",
       "      <td>...</td>\n",
       "      <td>NaN</td>\n",
       "      <td>NaN</td>\n",
       "      <td>NaN</td>\n",
       "      <td>NaN</td>\n",
       "      <td>NaN</td>\n",
       "      <td>Africa</td>\n",
       "      <td>Lower middle income</td>\n",
       "      <td>0</td>\n",
       "      <td>1</td>\n",
       "      <td>0</td>\n",
       "    </tr>\n",
       "    <tr>\n",
       "      <th>3</th>\n",
       "      <td>Argentina</td>\n",
       "      <td>4.77</td>\n",
       "      <td>158.0</td>\n",
       "      <td>4.0</td>\n",
       "      <td>8476.0</td>\n",
       "      <td>558065.0</td>\n",
       "      <td>45.51</td>\n",
       "      <td>22.53</td>\n",
       "      <td>22.98</td>\n",
       "      <td>23.1</td>\n",
       "      <td>...</td>\n",
       "      <td>115.8</td>\n",
       "      <td>96.8</td>\n",
       "      <td>88.8</td>\n",
       "      <td>75.6</td>\n",
       "      <td>65.2</td>\n",
       "      <td>South America</td>\n",
       "      <td>Upper middle income</td>\n",
       "      <td>0</td>\n",
       "      <td>0</td>\n",
       "      <td>1</td>\n",
       "    </tr>\n",
       "    <tr>\n",
       "      <th>4</th>\n",
       "      <td>Armenia</td>\n",
       "      <td>7.58</td>\n",
       "      <td>33.0</td>\n",
       "      <td>1.0</td>\n",
       "      <td>4266.0</td>\n",
       "      <td>11919.0</td>\n",
       "      <td>2.78</td>\n",
       "      <td>1.25</td>\n",
       "      <td>1.53</td>\n",
       "      <td>20.5</td>\n",
       "      <td>...</td>\n",
       "      <td>94.6</td>\n",
       "      <td>NaN</td>\n",
       "      <td>NaN</td>\n",
       "      <td>NaN</td>\n",
       "      <td>NaN</td>\n",
       "      <td>Asia</td>\n",
       "      <td>Upper middle income</td>\n",
       "      <td>1</td>\n",
       "      <td>0</td>\n",
       "      <td>0</td>\n",
       "    </tr>\n",
       "  </tbody>\n",
       "</table>\n",
       "<p>5 rows × 29 columns</p>\n",
       "</div>"
      ],
      "text/plain": [
       "     Country  Economic Freedom Summary Index   Rank  Quartile  GDP_PerCapita  \\\n",
       "0    Albania                            7.60   31.0       1.0         5181.0   \n",
       "1    Algeria                            4.82  157.0       4.0         3368.0   \n",
       "2     Angola                            5.38  149.0       4.0         1896.0   \n",
       "3  Argentina                            4.77  158.0       4.0         8476.0   \n",
       "4    Armenia                            7.58   33.0       1.0         4266.0   \n",
       "\n",
       "   GDP_2010Prices_Millions  Pop_mill  Pop_male_mill  Pop_female_mill  \\\n",
       "0                  12541.0      2.84           1.42             1.42   \n",
       "1                 168331.0     44.90          22.86            22.04   \n",
       "2                 105625.0     35.59          17.59            18.00   \n",
       "3                 558065.0     45.51          22.53            22.98   \n",
       "4                  11919.0      2.78           1.25             1.53   \n",
       "\n",
       "   Pop_0_14_per  ...  Enroll_Ratio_Primary_Male  \\\n",
       "0          16.1  ...                      100.4   \n",
       "1          30.6  ...                      111.7   \n",
       "2          45.0  ...                        NaN   \n",
       "3          23.1  ...                      115.8   \n",
       "4          20.5  ...                       94.6   \n",
       "\n",
       "   Enroll_Ratio_Secondary_Female  Enroll_Ratio_Secondary_Male  \\\n",
       "0                           76.5                         79.2   \n",
       "1                           82.7                         75.5   \n",
       "2                            NaN                          NaN   \n",
       "3                           96.8                         88.8   \n",
       "4                            NaN                          NaN   \n",
       "\n",
       "   Enroll_Ratio_UpperSecondary_Female  Enroll_Ratio_UpperSecondary_Male  \\\n",
       "0                                56.8                              62.1   \n",
       "1                                62.4                              42.3   \n",
       "2                                 NaN                               NaN   \n",
       "3                                75.6                              65.2   \n",
       "4                                 NaN                               NaN   \n",
       "\n",
       "       Continent         Income group  Landlocked?  LDC?  English?  \n",
       "0         Europe  Upper middle income            0     0         0  \n",
       "1         Africa  Lower middle income            0     0         0  \n",
       "2         Africa  Lower middle income            0     1         0  \n",
       "3  South America  Upper middle income            0     0         1  \n",
       "4           Asia  Upper middle income            1     0         0  \n",
       "\n",
       "[5 rows x 29 columns]"
      ]
     },
     "execution_count": 5,
     "metadata": {},
     "output_type": "execute_result"
    }
   ],
   "source": [
    "#Check Data\n",
    "df_Recent.head()"
   ]
  },
  {
   "cell_type": "code",
   "execution_count": 6,
   "id": "5d78f53c",
   "metadata": {},
   "outputs": [
    {
     "data": {
      "text/plain": [
       "(165, 29)"
      ]
     },
     "execution_count": 6,
     "metadata": {},
     "output_type": "execute_result"
    }
   ],
   "source": [
    "# Check Data\n",
    "df_Recent.shape"
   ]
  },
  {
   "cell_type": "markdown",
   "id": "2c3207b7",
   "metadata": {},
   "source": [
    "### 3. Wrangle Data to the correct format"
   ]
  },
  {
   "cell_type": "code",
   "execution_count": 7,
   "id": "db533168",
   "metadata": {},
   "outputs": [],
   "source": [
    "df_Cluster = df_Recent[['Economic Freedom Summary Index', 'GDP_PerCapita', 'Pop_mill', 'Enroll_Ratio_Secondary_Female']]"
   ]
  },
  {
   "cell_type": "code",
   "execution_count": 8,
   "id": "ed1880bc",
   "metadata": {
    "scrolled": true
   },
   "outputs": [
    {
     "data": {
      "text/html": [
       "<div>\n",
       "<style scoped>\n",
       "    .dataframe tbody tr th:only-of-type {\n",
       "        vertical-align: middle;\n",
       "    }\n",
       "\n",
       "    .dataframe tbody tr th {\n",
       "        vertical-align: top;\n",
       "    }\n",
       "\n",
       "    .dataframe thead th {\n",
       "        text-align: right;\n",
       "    }\n",
       "</style>\n",
       "<table border=\"1\" class=\"dataframe\">\n",
       "  <thead>\n",
       "    <tr style=\"text-align: right;\">\n",
       "      <th></th>\n",
       "      <th>Economic Freedom Summary Index</th>\n",
       "      <th>GDP_PerCapita</th>\n",
       "      <th>Pop_mill</th>\n",
       "      <th>Enroll_Ratio_Secondary_Female</th>\n",
       "    </tr>\n",
       "  </thead>\n",
       "  <tbody>\n",
       "    <tr>\n",
       "      <th>0</th>\n",
       "      <td>7.60</td>\n",
       "      <td>5181.0</td>\n",
       "      <td>2.84</td>\n",
       "      <td>76.5</td>\n",
       "    </tr>\n",
       "    <tr>\n",
       "      <th>1</th>\n",
       "      <td>4.82</td>\n",
       "      <td>3368.0</td>\n",
       "      <td>44.90</td>\n",
       "      <td>82.7</td>\n",
       "    </tr>\n",
       "    <tr>\n",
       "      <th>2</th>\n",
       "      <td>5.38</td>\n",
       "      <td>1896.0</td>\n",
       "      <td>35.59</td>\n",
       "      <td>NaN</td>\n",
       "    </tr>\n",
       "    <tr>\n",
       "      <th>3</th>\n",
       "      <td>4.77</td>\n",
       "      <td>8476.0</td>\n",
       "      <td>45.51</td>\n",
       "      <td>96.8</td>\n",
       "    </tr>\n",
       "    <tr>\n",
       "      <th>4</th>\n",
       "      <td>7.58</td>\n",
       "      <td>4266.0</td>\n",
       "      <td>2.78</td>\n",
       "      <td>NaN</td>\n",
       "    </tr>\n",
       "  </tbody>\n",
       "</table>\n",
       "</div>"
      ],
      "text/plain": [
       "   Economic Freedom Summary Index  GDP_PerCapita  Pop_mill  \\\n",
       "0                            7.60         5181.0      2.84   \n",
       "1                            4.82         3368.0     44.90   \n",
       "2                            5.38         1896.0     35.59   \n",
       "3                            4.77         8476.0     45.51   \n",
       "4                            7.58         4266.0      2.78   \n",
       "\n",
       "   Enroll_Ratio_Secondary_Female  \n",
       "0                           76.5  \n",
       "1                           82.7  \n",
       "2                            NaN  \n",
       "3                           96.8  \n",
       "4                            NaN  "
      ]
     },
     "execution_count": 8,
     "metadata": {},
     "output_type": "execute_result"
    }
   ],
   "source": [
    "df_Cluster.head(5)"
   ]
  },
  {
   "cell_type": "code",
   "execution_count": 9,
   "id": "be3ae3aa",
   "metadata": {},
   "outputs": [
    {
     "data": {
      "text/plain": [
       "Economic Freedom Summary Index     0\n",
       "GDP_PerCapita                      0\n",
       "Pop_mill                           0\n",
       "Enroll_Ratio_Secondary_Female     40\n",
       "dtype: int64"
      ]
     },
     "execution_count": 9,
     "metadata": {},
     "output_type": "execute_result"
    }
   ],
   "source": [
    "# Check for missing values\n",
    "\n",
    "df_Cluster.isnull().sum()"
   ]
  },
  {
   "cell_type": "code",
   "execution_count": 10,
   "id": "04f18077",
   "metadata": {
    "scrolled": true
   },
   "outputs": [
    {
     "name": "stderr",
     "output_type": "stream",
     "text": [
      "/var/folders/cc/my2vy3vj0tvb16y7yszvbr280000gn/T/ipykernel_70764/284864430.py:2: SettingWithCopyWarning: \n",
      "A value is trying to be set on a copy of a slice from a DataFrame\n",
      "\n",
      "See the caveats in the documentation: https://pandas.pydata.org/pandas-docs/stable/user_guide/indexing.html#returning-a-view-versus-a-copy\n",
      "  df_Cluster.dropna(inplace = True)\n"
     ]
    }
   ],
   "source": [
    "# Drop Missing Values\n",
    "df_Cluster.dropna(inplace = True)"
   ]
  },
  {
   "cell_type": "code",
   "execution_count": 11,
   "id": "46128fc9",
   "metadata": {},
   "outputs": [
    {
     "data": {
      "text/html": [
       "<div>\n",
       "<style scoped>\n",
       "    .dataframe tbody tr th:only-of-type {\n",
       "        vertical-align: middle;\n",
       "    }\n",
       "\n",
       "    .dataframe tbody tr th {\n",
       "        vertical-align: top;\n",
       "    }\n",
       "\n",
       "    .dataframe thead th {\n",
       "        text-align: right;\n",
       "    }\n",
       "</style>\n",
       "<table border=\"1\" class=\"dataframe\">\n",
       "  <thead>\n",
       "    <tr style=\"text-align: right;\">\n",
       "      <th></th>\n",
       "      <th>Economic Freedom Summary Index</th>\n",
       "      <th>GDP_PerCapita</th>\n",
       "      <th>Pop_mill</th>\n",
       "      <th>Enroll_Ratio_Secondary_Female</th>\n",
       "    </tr>\n",
       "  </thead>\n",
       "  <tbody>\n",
       "    <tr>\n",
       "      <th>0</th>\n",
       "      <td>7.60</td>\n",
       "      <td>5181.0</td>\n",
       "      <td>2.84</td>\n",
       "      <td>76.5</td>\n",
       "    </tr>\n",
       "    <tr>\n",
       "      <th>1</th>\n",
       "      <td>4.82</td>\n",
       "      <td>3368.0</td>\n",
       "      <td>44.90</td>\n",
       "      <td>82.7</td>\n",
       "    </tr>\n",
       "    <tr>\n",
       "      <th>3</th>\n",
       "      <td>4.77</td>\n",
       "      <td>8476.0</td>\n",
       "      <td>45.51</td>\n",
       "      <td>96.8</td>\n",
       "    </tr>\n",
       "    <tr>\n",
       "      <th>6</th>\n",
       "      <td>7.69</td>\n",
       "      <td>48106.0</td>\n",
       "      <td>8.94</td>\n",
       "      <td>97.8</td>\n",
       "    </tr>\n",
       "    <tr>\n",
       "      <th>8</th>\n",
       "      <td>6.55</td>\n",
       "      <td>25194.0</td>\n",
       "      <td>0.41</td>\n",
       "      <td>88.1</td>\n",
       "    </tr>\n",
       "  </tbody>\n",
       "</table>\n",
       "</div>"
      ],
      "text/plain": [
       "   Economic Freedom Summary Index  GDP_PerCapita  Pop_mill  \\\n",
       "0                            7.60         5181.0      2.84   \n",
       "1                            4.82         3368.0     44.90   \n",
       "3                            4.77         8476.0     45.51   \n",
       "6                            7.69        48106.0      8.94   \n",
       "8                            6.55        25194.0      0.41   \n",
       "\n",
       "   Enroll_Ratio_Secondary_Female  \n",
       "0                           76.5  \n",
       "1                           82.7  \n",
       "3                           96.8  \n",
       "6                           97.8  \n",
       "8                           88.1  "
      ]
     },
     "execution_count": 11,
     "metadata": {},
     "output_type": "execute_result"
    }
   ],
   "source": [
    "df_Cluster.head()"
   ]
  },
  {
   "cell_type": "code",
   "execution_count": 12,
   "id": "ea419694",
   "metadata": {},
   "outputs": [
    {
     "data": {
      "text/plain": [
       "(125, 4)"
      ]
     },
     "execution_count": 12,
     "metadata": {},
     "output_type": "execute_result"
    }
   ],
   "source": [
    "df_Cluster.shape"
   ]
  },
  {
   "cell_type": "code",
   "execution_count": 13,
   "id": "8d7d2a8a",
   "metadata": {},
   "outputs": [],
   "source": [
    "# Standardize the data\n",
    "# I used a strategy from https://www.geeksforgeeks.org/how-to-standardize-data-in-a-pandas-dataframe/\n",
    "from sklearn.preprocessing import StandardScaler "
   ]
  },
  {
   "cell_type": "code",
   "execution_count": 14,
   "id": "d9b4013b",
   "metadata": {},
   "outputs": [],
   "source": [
    "# define standard scaler \n",
    "scaler = StandardScaler() "
   ]
  },
  {
   "cell_type": "code",
   "execution_count": 15,
   "id": "596fb77e",
   "metadata": {},
   "outputs": [],
   "source": [
    "# transform data \n",
    "Cluster_Scaler = scaler.fit_transform(df_Cluster) "
   ]
  },
  {
   "cell_type": "code",
   "execution_count": 16,
   "id": "9caf3d7e",
   "metadata": {},
   "outputs": [],
   "source": [
    "#Change array to dataframe.\n",
    "df_Cluster_Scaler = pd.DataFrame(Cluster_Scaler)"
   ]
  },
  {
   "cell_type": "code",
   "execution_count": 17,
   "id": "3e146301",
   "metadata": {},
   "outputs": [
    {
     "data": {
      "text/html": [
       "<div>\n",
       "<style scoped>\n",
       "    .dataframe tbody tr th:only-of-type {\n",
       "        vertical-align: middle;\n",
       "    }\n",
       "\n",
       "    .dataframe tbody tr th {\n",
       "        vertical-align: top;\n",
       "    }\n",
       "\n",
       "    .dataframe thead th {\n",
       "        text-align: right;\n",
       "    }\n",
       "</style>\n",
       "<table border=\"1\" class=\"dataframe\">\n",
       "  <thead>\n",
       "    <tr style=\"text-align: right;\">\n",
       "      <th></th>\n",
       "      <th>0</th>\n",
       "      <th>1</th>\n",
       "      <th>2</th>\n",
       "      <th>3</th>\n",
       "    </tr>\n",
       "  </thead>\n",
       "  <tbody>\n",
       "    <tr>\n",
       "      <th>0</th>\n",
       "      <td>0.819284</td>\n",
       "      <td>-0.524873</td>\n",
       "      <td>-0.289210</td>\n",
       "      <td>-0.010063</td>\n",
       "    </tr>\n",
       "    <tr>\n",
       "      <th>1</th>\n",
       "      <td>-1.886487</td>\n",
       "      <td>-0.610917</td>\n",
       "      <td>0.023837</td>\n",
       "      <td>0.186877</td>\n",
       "    </tr>\n",
       "    <tr>\n",
       "      <th>2</th>\n",
       "      <td>-1.935152</td>\n",
       "      <td>-0.368493</td>\n",
       "      <td>0.028378</td>\n",
       "      <td>0.634758</td>\n",
       "    </tr>\n",
       "    <tr>\n",
       "      <th>3</th>\n",
       "      <td>0.906881</td>\n",
       "      <td>1.512328</td>\n",
       "      <td>-0.243808</td>\n",
       "      <td>0.666522</td>\n",
       "    </tr>\n",
       "    <tr>\n",
       "      <th>4</th>\n",
       "      <td>-0.202680</td>\n",
       "      <td>0.424935</td>\n",
       "      <td>-0.307296</td>\n",
       "      <td>0.358406</td>\n",
       "    </tr>\n",
       "  </tbody>\n",
       "</table>\n",
       "</div>"
      ],
      "text/plain": [
       "          0         1         2         3\n",
       "0  0.819284 -0.524873 -0.289210 -0.010063\n",
       "1 -1.886487 -0.610917  0.023837  0.186877\n",
       "2 -1.935152 -0.368493  0.028378  0.634758\n",
       "3  0.906881  1.512328 -0.243808  0.666522\n",
       "4 -0.202680  0.424935 -0.307296  0.358406"
      ]
     },
     "execution_count": 17,
     "metadata": {},
     "output_type": "execute_result"
    }
   ],
   "source": [
    "#check\n",
    "df_Cluster_Scaler.head()\n"
   ]
  },
  {
   "cell_type": "code",
   "execution_count": 18,
   "id": "b2753917",
   "metadata": {
    "scrolled": true
   },
   "outputs": [
    {
     "data": {
      "text/plain": [
       "(125, 4)"
      ]
     },
     "execution_count": 18,
     "metadata": {},
     "output_type": "execute_result"
    }
   ],
   "source": [
    "df_Cluster_Scaler.shape #check"
   ]
  },
  {
   "cell_type": "markdown",
   "id": "0db4e51b",
   "metadata": {},
   "source": [
    "### 4. Create elbow curve"
   ]
  },
  {
   "cell_type": "code",
   "execution_count": 19,
   "id": "c34736d0",
   "metadata": {},
   "outputs": [],
   "source": [
    "num_cl = range(1, 10) # Defines the range of potential clusters in the data.\n",
    "kmeans = [KMeans(n_clusters=i) for i in num_cl] # Defines k-means clusters in the range assigned above."
   ]
  },
  {
   "cell_type": "code",
   "execution_count": 20,
   "id": "788ccf3c",
   "metadata": {},
   "outputs": [
    {
     "name": "stderr",
     "output_type": "stream",
     "text": [
      "/Users/mistystone/anaconda3/lib/python3.10/site-packages/sklearn/cluster/_kmeans.py:870: FutureWarning: The default value of `n_init` will change from 10 to 'auto' in 1.4. Set the value of `n_init` explicitly to suppress the warning\n",
      "  warnings.warn(\n",
      "/Users/mistystone/anaconda3/lib/python3.10/site-packages/sklearn/cluster/_kmeans.py:870: FutureWarning: The default value of `n_init` will change from 10 to 'auto' in 1.4. Set the value of `n_init` explicitly to suppress the warning\n",
      "  warnings.warn(\n",
      "/Users/mistystone/anaconda3/lib/python3.10/site-packages/sklearn/cluster/_kmeans.py:870: FutureWarning: The default value of `n_init` will change from 10 to 'auto' in 1.4. Set the value of `n_init` explicitly to suppress the warning\n",
      "  warnings.warn(\n",
      "/Users/mistystone/anaconda3/lib/python3.10/site-packages/sklearn/cluster/_kmeans.py:870: FutureWarning: The default value of `n_init` will change from 10 to 'auto' in 1.4. Set the value of `n_init` explicitly to suppress the warning\n",
      "  warnings.warn(\n",
      "/Users/mistystone/anaconda3/lib/python3.10/site-packages/sklearn/cluster/_kmeans.py:870: FutureWarning: The default value of `n_init` will change from 10 to 'auto' in 1.4. Set the value of `n_init` explicitly to suppress the warning\n",
      "  warnings.warn(\n",
      "/Users/mistystone/anaconda3/lib/python3.10/site-packages/sklearn/cluster/_kmeans.py:870: FutureWarning: The default value of `n_init` will change from 10 to 'auto' in 1.4. Set the value of `n_init` explicitly to suppress the warning\n",
      "  warnings.warn(\n",
      "/Users/mistystone/anaconda3/lib/python3.10/site-packages/sklearn/cluster/_kmeans.py:870: FutureWarning: The default value of `n_init` will change from 10 to 'auto' in 1.4. Set the value of `n_init` explicitly to suppress the warning\n",
      "  warnings.warn(\n",
      "/Users/mistystone/anaconda3/lib/python3.10/site-packages/sklearn/cluster/_kmeans.py:870: FutureWarning: The default value of `n_init` will change from 10 to 'auto' in 1.4. Set the value of `n_init` explicitly to suppress the warning\n",
      "  warnings.warn(\n",
      "/Users/mistystone/anaconda3/lib/python3.10/site-packages/sklearn/cluster/_kmeans.py:870: FutureWarning: The default value of `n_init` will change from 10 to 'auto' in 1.4. Set the value of `n_init` explicitly to suppress the warning\n",
      "  warnings.warn(\n"
     ]
    },
    {
     "data": {
      "text/plain": [
       "[-500.0000000000001,\n",
       " -317.2667399628845,\n",
       " -213.2881608354179,\n",
       " -136.5679869562023,\n",
       " -105.72024770955855,\n",
       " -88.45886688225929,\n",
       " -75.67625436907949,\n",
       " -67.24483298909585,\n",
       " -60.7195194162203]"
      ]
     },
     "execution_count": 20,
     "metadata": {},
     "output_type": "execute_result"
    }
   ],
   "source": [
    "score = [kmeans[i].fit(df_Cluster_Scaler).score(df_Cluster_Scaler) for i in range(len(kmeans))] # Creates a score that represents \n",
    "# a rate of variation for the given cluster option.\n",
    "\n",
    "score"
   ]
  },
  {
   "cell_type": "code",
   "execution_count": 21,
   "id": "30ee1176",
   "metadata": {},
   "outputs": [
    {
     "data": {
      "image/png": "[encoded data removed]",
      "text/plain": [
       "<Figure size 640x480 with 1 Axes>"
      ]
     },
     "metadata": {},
     "output_type": "display_data"
    }
   ],
   "source": [
    "# Plot the elbow curve using PyLab.\n",
    "\n",
    "pl.plot(num_cl,score)\n",
    "pl.xlabel('Number of Clusters')\n",
    "pl.ylabel('Score')\n",
    "pl.title('Elbow Curve')\n",
    "pl.show()"
   ]
  },
  {
   "cell_type": "markdown",
   "id": "b8ba2660",
   "metadata": {},
   "source": [
    "I'm going to create 4 clusters based on the fact that the curve changes slope significantly after n=4."
   ]
  },
  {
   "cell_type": "markdown",
   "id": "dd08c2c3",
   "metadata": {},
   "source": [
    "### 5. K-Means Clustering"
   ]
  },
  {
   "cell_type": "code",
   "execution_count": 22,
   "id": "d821745d",
   "metadata": {},
   "outputs": [],
   "source": [
    "# Create the k-means object.\n",
    "\n",
    "kmeans = KMeans(n_clusters = 4) \n"
   ]
  },
  {
   "cell_type": "code",
   "execution_count": 23,
   "id": "0ae00a86",
   "metadata": {},
   "outputs": [
    {
     "name": "stderr",
     "output_type": "stream",
     "text": [
      "/Users/mistystone/anaconda3/lib/python3.10/site-packages/sklearn/cluster/_kmeans.py:870: FutureWarning: The default value of `n_init` will change from 10 to 'auto' in 1.4. Set the value of `n_init` explicitly to suppress the warning\n",
      "  warnings.warn(\n"
     ]
    },
    {
     "data": {
      "text/html": [
       "<style>#sk-container-id-1 {color: black;background-color: white;}#sk-container-id-1 pre{padding: 0;}#sk-container-id-1 div.sk-toggleable {background-color: white;}#sk-container-id-1 label.sk-toggleable__label {cursor: pointer;display: block;width: 100%;margin-bottom: 0;padding: 0.3em;box-sizing: border-box;text-align: center;}#sk-container-id-1 label.sk-toggleable__label-arrow:before {content: \"▸\";float: left;margin-right: 0.25em;color: #696969;}#sk-container-id-1 label.sk-toggleable__label-arrow:hover:before {color: black;}#sk-container-id-1 div.sk-estimator:hover label.sk-toggleable__label-arrow:before {color: black;}#sk-container-id-1 div.sk-toggleable__content {max-height: 0;max-width: 0;overflow: hidden;text-align: left;background-color: #f0f8ff;}#sk-container-id-1 div.sk-toggleable__content pre {margin: 0.2em;color: black;border-radius: 0.25em;background-color: #f0f8ff;}#sk-container-id-1 input.sk-toggleable__control:checked~div.sk-toggleable__content {max-height: 200px;max-width: 100%;overflow: auto;}#sk-container-id-1 input.sk-toggleable__control:checked~label.sk-toggleable__label-arrow:before {content: \"▾\";}#sk-container-id-1 div.sk-estimator input.sk-toggleable__control:checked~label.sk-toggleable__label {background-color: #d4ebff;}#sk-container-id-1 div.sk-label input.sk-toggleable__control:checked~label.sk-toggleable__label {background-color: #d4ebff;}#sk-container-id-1 input.sk-hidden--visually {border: 0;clip: rect(1px 1px 1px 1px);clip: rect(1px, 1px, 1px, 1px);height: 1px;margin: -1px;overflow: hidden;padding: 0;position: absolute;width: 1px;}#sk-container-id-1 div.sk-estimator {font-family: monospace;background-color: #f0f8ff;border: 1px dotted black;border-radius: 0.25em;box-sizing: border-box;margin-bottom: 0.5em;}#sk-container-id-1 div.sk-estimator:hover {background-color: #d4ebff;}#sk-container-id-1 div.sk-parallel-item::after {content: \"\";width: 100%;border-bottom: 1px solid gray;flex-grow: 1;}#sk-container-id-1 div.sk-label:hover label.sk-toggleable__label {background-color: #d4ebff;}#sk-container-id-1 div.sk-serial::before {content: \"\";position: absolute;border-left: 1px solid gray;box-sizing: border-box;top: 0;bottom: 0;left: 50%;z-index: 0;}#sk-container-id-1 div.sk-serial {display: flex;flex-direction: column;align-items: center;background-color: white;padding-right: 0.2em;padding-left: 0.2em;position: relative;}#sk-container-id-1 div.sk-item {position: relative;z-index: 1;}#sk-container-id-1 div.sk-parallel {display: flex;align-items: stretch;justify-content: center;background-color: white;position: relative;}#sk-container-id-1 div.sk-item::before, #sk-container-id-1 div.sk-parallel-item::before {content: \"\";position: absolute;border-left: 1px solid gray;box-sizing: border-box;top: 0;bottom: 0;left: 50%;z-index: -1;}#sk-container-id-1 div.sk-parallel-item {display: flex;flex-direction: column;z-index: 1;position: relative;background-color: white;}#sk-container-id-1 div.sk-parallel-item:first-child::after {align-self: flex-end;width: 50%;}#sk-container-id-1 div.sk-parallel-item:last-child::after {align-self: flex-start;width: 50%;}#sk-container-id-1 div.sk-parallel-item:only-child::after {width: 0;}#sk-container-id-1 div.sk-dashed-wrapped {border: 1px dashed gray;margin: 0 0.4em 0.5em 0.4em;box-sizing: border-box;padding-bottom: 0.4em;background-color: white;}#sk-container-id-1 div.sk-label label {font-family: monospace;font-weight: bold;display: inline-block;line-height: 1.2em;}#sk-container-id-1 div.sk-label-container {text-align: center;}#sk-container-id-1 div.sk-container {/* jupyter's `normalize.less` sets `[hidden] { display: none; }` but bootstrap.min.css set `[hidden] { display: none !important; }` so we also need the `!important` here to be able to override the default hidden behavior on the sphinx rendered scikit-learn.org. See: https://github.com/scikit-learn/scikit-learn/issues/21755 */display: inline-block !important;position: relative;}#sk-container-id-1 div.sk-text-repr-fallback {display: none;}</style><div id=\"sk-container-id-1\" class=\"sk-top-container\"><div class=\"sk-text-repr-fallback\"><pre>KMeans(n_clusters=4)</pre><b>In a Jupyter environment, please rerun this cell to show the HTML representation or trust the notebook. <br />On GitHub, the HTML representation is unable to render, please try loading this page with nbviewer.org.</b></div><div class=\"sk-container\" hidden><div class=\"sk-item\"><div class=\"sk-estimator sk-toggleable\"><input class=\"sk-toggleable__control sk-hidden--visually\" id=\"sk-estimator-id-1\" type=\"checkbox\" checked><label for=\"sk-estimator-id-1\" class=\"sk-toggleable__label sk-toggleable__label-arrow\">KMeans</label><div class=\"sk-toggleable__content\"><pre>KMeans(n_clusters=4)</pre></div></div></div></div></div>"
      ],
      "text/plain": [
       "KMeans(n_clusters=4)"
      ]
     },
     "execution_count": 23,
     "metadata": {},
     "output_type": "execute_result"
    }
   ],
   "source": [
    "# Fit the k-means object to the data.\n",
    "\n",
    "kmeans.fit(df_Cluster_Scaler)"
   ]
  },
  {
   "cell_type": "code",
   "execution_count": 24,
   "id": "e31cf845",
   "metadata": {
    "scrolled": true
   },
   "outputs": [
    {
     "name": "stderr",
     "output_type": "stream",
     "text": [
      "/Users/mistystone/anaconda3/lib/python3.10/site-packages/sklearn/cluster/_kmeans.py:870: FutureWarning: The default value of `n_init` will change from 10 to 'auto' in 1.4. Set the value of `n_init` explicitly to suppress the warning\n",
      "  warnings.warn(\n",
      "/var/folders/cc/my2vy3vj0tvb16y7yszvbr280000gn/T/ipykernel_70764/800269159.py:4: SettingWithCopyWarning: \n",
      "A value is trying to be set on a copy of a slice from a DataFrame.\n",
      "Try using .loc[row_indexer,col_indexer] = value instead\n",
      "\n",
      "See the caveats in the documentation: https://pandas.pydata.org/pandas-docs/stable/user_guide/indexing.html#returning-a-view-versus-a-copy\n",
      "  df_Cluster['clusters'] = kmeans.fit_predict(df_Cluster)\n"
     ]
    }
   ],
   "source": [
    "# Creates a column 'clusters' in the original dataframe -- NOT the scaled one -- \n",
    "# with the cluster number for each observation. \n",
    "\n",
    "df_Cluster['clusters'] = kmeans.fit_predict(df_Cluster)"
   ]
  },
  {
   "cell_type": "code",
   "execution_count": 25,
   "id": "de42a52a",
   "metadata": {},
   "outputs": [
    {
     "data": {
      "text/html": [
       "<div>\n",
       "<style scoped>\n",
       "    .dataframe tbody tr th:only-of-type {\n",
       "        vertical-align: middle;\n",
       "    }\n",
       "\n",
       "    .dataframe tbody tr th {\n",
       "        vertical-align: top;\n",
       "    }\n",
       "\n",
       "    .dataframe thead th {\n",
       "        text-align: right;\n",
       "    }\n",
       "</style>\n",
       "<table border=\"1\" class=\"dataframe\">\n",
       "  <thead>\n",
       "    <tr style=\"text-align: right;\">\n",
       "      <th></th>\n",
       "      <th>Economic Freedom Summary Index</th>\n",
       "      <th>GDP_PerCapita</th>\n",
       "      <th>Pop_mill</th>\n",
       "      <th>Enroll_Ratio_Secondary_Female</th>\n",
       "      <th>clusters</th>\n",
       "    </tr>\n",
       "  </thead>\n",
       "  <tbody>\n",
       "    <tr>\n",
       "      <th>0</th>\n",
       "      <td>7.60</td>\n",
       "      <td>5181.0</td>\n",
       "      <td>2.84</td>\n",
       "      <td>76.5</td>\n",
       "      <td>0</td>\n",
       "    </tr>\n",
       "    <tr>\n",
       "      <th>1</th>\n",
       "      <td>4.82</td>\n",
       "      <td>3368.0</td>\n",
       "      <td>44.90</td>\n",
       "      <td>82.7</td>\n",
       "      <td>0</td>\n",
       "    </tr>\n",
       "    <tr>\n",
       "      <th>3</th>\n",
       "      <td>4.77</td>\n",
       "      <td>8476.0</td>\n",
       "      <td>45.51</td>\n",
       "      <td>96.8</td>\n",
       "      <td>0</td>\n",
       "    </tr>\n",
       "    <tr>\n",
       "      <th>6</th>\n",
       "      <td>7.69</td>\n",
       "      <td>48106.0</td>\n",
       "      <td>8.94</td>\n",
       "      <td>97.8</td>\n",
       "      <td>3</td>\n",
       "    </tr>\n",
       "    <tr>\n",
       "      <th>8</th>\n",
       "      <td>6.55</td>\n",
       "      <td>25194.0</td>\n",
       "      <td>0.41</td>\n",
       "      <td>88.1</td>\n",
       "      <td>2</td>\n",
       "    </tr>\n",
       "  </tbody>\n",
       "</table>\n",
       "</div>"
      ],
      "text/plain": [
       "   Economic Freedom Summary Index  GDP_PerCapita  Pop_mill  \\\n",
       "0                            7.60         5181.0      2.84   \n",
       "1                            4.82         3368.0     44.90   \n",
       "3                            4.77         8476.0     45.51   \n",
       "6                            7.69        48106.0      8.94   \n",
       "8                            6.55        25194.0      0.41   \n",
       "\n",
       "   Enroll_Ratio_Secondary_Female  clusters  \n",
       "0                           76.5         0  \n",
       "1                           82.7         0  \n",
       "3                           96.8         0  \n",
       "6                           97.8         3  \n",
       "8                           88.1         2  "
      ]
     },
     "execution_count": 25,
     "metadata": {},
     "output_type": "execute_result"
    }
   ],
   "source": [
    "#check head\n",
    "df_Cluster.head()"
   ]
  },
  {
   "cell_type": "code",
   "execution_count": 26,
   "id": "fccd2ecd",
   "metadata": {},
   "outputs": [
    {
     "data": {
      "text/plain": [
       "0    82\n",
       "2    23\n",
       "3    17\n",
       "1     3\n",
       "Name: clusters, dtype: int64"
      ]
     },
     "execution_count": 26,
     "metadata": {},
     "output_type": "execute_result"
    }
   ],
   "source": [
    "#Check the counts of the clusters\n",
    "df_Cluster['clusters'].value_counts()"
   ]
  },
  {
   "cell_type": "markdown",
   "id": "c2460aec",
   "metadata": {},
   "source": [
    "### 6. Plots to explore the data in light of the clusters"
   ]
  },
  {
   "cell_type": "code",
   "execution_count": 27,
   "id": "bb05293a",
   "metadata": {},
   "outputs": [
    {
     "data": {
      "image/png": "[encoded data removed]",
      "text/plain": [
       "<Figure size 1200x800 with 1 Axes>"
      ]
     },
     "metadata": {},
     "output_type": "display_data"
    }
   ],
   "source": [
    "# Plot the clusters for the \"Economic Freedom Summary Index\" and \"GDP_PerCapita\" variables.\n",
    "\n",
    "plt.figure(figsize=(12,8))\n",
    "ax = sns.scatterplot(x=df_Cluster['GDP_PerCapita'], y=df_Cluster['Economic Freedom Summary Index'], hue=kmeans.labels_, s=100) \n",
    "# Here, you're subsetting `X` for the x and y arguments to avoid using their labels. \n",
    "# `hue` takes the value of the attribute `kmeans.labels_`, which is the result of running the k-means algorithm.\n",
    "# `s` represents the size of the points you want to see in the plot.\n",
    "\n",
    "ax.grid(False) # This removes the grid from the background.\n",
    "plt.xlabel('GDP_PerCapita') # Label x-axis.\n",
    "plt.ylabel('Economic Freedom Summary Index') # Label y-axis.\n",
    "plt.show()"
   ]
  },
  {
   "cell_type": "markdown",
   "id": "0bfe473d",
   "metadata": {},
   "source": [
    "This plot shows that the algorithm clustered the countries by per capita GDP, in general. The light purple dots show the relatively \"poor\" nations, and they have a very large variance in their Economic Freedom Indexes. The two middle shades of purple show the next two \"clusters\" of nations, which the algorithm clustered based on their GDP, in general as well. The darker three dots are the highest per capita GDP nations."
   ]
  },
  {
   "cell_type": "code",
   "execution_count": 28,
   "id": "5c77886f",
   "metadata": {},
   "outputs": [
    {
     "data": {
      "image/png": "[encoded data removed]",
      "text/plain": [
       "<Figure size 1200x800 with 1 Axes>"
      ]
     },
     "metadata": {},
     "output_type": "display_data"
    }
   ],
   "source": [
    "# Plot the clusters for the \"Economic Freedom Summary Index\" and \"Enroll_Ration_Female\" variables.\n",
    "\n",
    "plt.figure(figsize=(12,8))\n",
    "ax = sns.scatterplot(x=df_Cluster['Enroll_Ratio_Secondary_Female'], y=df_Cluster['Economic Freedom Summary Index'], hue=kmeans.labels_, s=100) \n",
    "# Here, you're subsetting `X` for the x and y arguments to avoid using their labels. \n",
    "# `hue` takes the value of the attribute `kmeans.labels_`, which is the result of running the k-means algorithm.\n",
    "# `s` represents the size of the points you want to see in the plot.\n",
    "\n",
    "ax.grid(False) # This removes the grid from the background.\n",
    "plt.xlabel('Enroll_Ratio_Secondary_Female') # Label x-axis.\n",
    "plt.ylabel('Economic Freedom Summary Index') # Label y-axis.\n",
    "plt.show()"
   ]
  },
  {
   "cell_type": "markdown",
   "id": "35c83fc3",
   "metadata": {},
   "source": [
    "This is such an interesting plot! We can really see the large variance in the relatively poor nations' female Secondary school enrollment. The nations in the \"higher per capita GDP\" clusters all have a relatively high level of female Secondary school enrollment. "
   ]
  },
  {
   "cell_type": "markdown",
   "id": "8aa4dafc",
   "metadata": {},
   "source": [
    "### 7. Descriptive Stats for each cluster"
   ]
  },
  {
   "cell_type": "code",
   "execution_count": 29,
   "id": "1400f7e7",
   "metadata": {},
   "outputs": [
    {
     "name": "stderr",
     "output_type": "stream",
     "text": [
      "/var/folders/cc/my2vy3vj0tvb16y7yszvbr280000gn/T/ipykernel_70764/2748743723.py:1: SettingWithCopyWarning: \n",
      "A value is trying to be set on a copy of a slice from a DataFrame.\n",
      "Try using .loc[row_indexer,col_indexer] = value instead\n",
      "\n",
      "See the caveats in the documentation: https://pandas.pydata.org/pandas-docs/stable/user_guide/indexing.html#returning-a-view-versus-a-copy\n",
      "  df_Cluster.loc[df_Cluster['clusters'] == 3, 'cluster'] = 'dark purple'\n"
     ]
    }
   ],
   "source": [
    "df_Cluster.loc[df_Cluster['clusters'] == 3, 'cluster'] = 'dark purple'\n",
    "df_Cluster.loc[df_Cluster['clusters'] == 2, 'cluster'] = 'light purple'\n",
    "df_Cluster.loc[df_Cluster['clusters'] == 1, 'cluster'] = 'mauve'\n",
    "df_Cluster.loc[df_Cluster['clusters'] == 0, 'cluster'] = 'pink'"
   ]
  },
  {
   "cell_type": "code",
   "execution_count": 30,
   "id": "0e42c4e0",
   "metadata": {},
   "outputs": [
    {
     "data": {
      "text/html": [
       "<div>\n",
       "<style scoped>\n",
       "    .dataframe tbody tr th:only-of-type {\n",
       "        vertical-align: middle;\n",
       "    }\n",
       "\n",
       "    .dataframe tbody tr th {\n",
       "        vertical-align: top;\n",
       "    }\n",
       "\n",
       "    .dataframe thead tr th {\n",
       "        text-align: left;\n",
       "    }\n",
       "\n",
       "    .dataframe thead tr:last-of-type th {\n",
       "        text-align: right;\n",
       "    }\n",
       "</style>\n",
       "<table border=\"1\" class=\"dataframe\">\n",
       "  <thead>\n",
       "    <tr>\n",
       "      <th></th>\n",
       "      <th colspan=\"3\" halign=\"left\">Economic Freedom Summary Index</th>\n",
       "      <th colspan=\"3\" halign=\"left\">GDP_PerCapita</th>\n",
       "      <th colspan=\"3\" halign=\"left\">Pop_mill</th>\n",
       "      <th colspan=\"3\" halign=\"left\">Enroll_Ratio_Secondary_Female</th>\n",
       "    </tr>\n",
       "    <tr>\n",
       "      <th></th>\n",
       "      <th>mean</th>\n",
       "      <th>median</th>\n",
       "      <th>std</th>\n",
       "      <th>mean</th>\n",
       "      <th>median</th>\n",
       "      <th>std</th>\n",
       "      <th>mean</th>\n",
       "      <th>median</th>\n",
       "      <th>std</th>\n",
       "      <th>mean</th>\n",
       "      <th>median</th>\n",
       "      <th>std</th>\n",
       "    </tr>\n",
       "    <tr>\n",
       "      <th>cluster</th>\n",
       "      <th></th>\n",
       "      <th></th>\n",
       "      <th></th>\n",
       "      <th></th>\n",
       "      <th></th>\n",
       "      <th></th>\n",
       "      <th></th>\n",
       "      <th></th>\n",
       "      <th></th>\n",
       "      <th></th>\n",
       "      <th></th>\n",
       "      <th></th>\n",
       "    </tr>\n",
       "  </thead>\n",
       "  <tbody>\n",
       "    <tr>\n",
       "      <th>dark purple</th>\n",
       "      <td>7.799412</td>\n",
       "      <td>7.810</td>\n",
       "      <td>0.442457</td>\n",
       "      <td>50671.823529</td>\n",
       "      <td>48106.0</td>\n",
       "      <td>8457.752126</td>\n",
       "      <td>40.152941</td>\n",
       "      <td>9.04</td>\n",
       "      <td>81.046975</td>\n",
       "      <td>110.241176</td>\n",
       "      <td>107.0</td>\n",
       "      <td>18.679971</td>\n",
       "    </tr>\n",
       "    <tr>\n",
       "      <th>light purple</th>\n",
       "      <td>7.316087</td>\n",
       "      <td>7.360</td>\n",
       "      <td>0.402139</td>\n",
       "      <td>22474.695652</td>\n",
       "      <td>22413.0</td>\n",
       "      <td>5728.955763</td>\n",
       "      <td>12.167826</td>\n",
       "      <td>4.03</td>\n",
       "      <td>17.134611</td>\n",
       "      <td>100.286957</td>\n",
       "      <td>98.9</td>\n",
       "      <td>7.875468</td>\n",
       "    </tr>\n",
       "    <tr>\n",
       "      <th>mauve</th>\n",
       "      <td>8.163333</td>\n",
       "      <td>8.110</td>\n",
       "      <td>0.283784</td>\n",
       "      <td>96784.000000</td>\n",
       "      <td>86919.0</td>\n",
       "      <td>17668.343414</td>\n",
       "      <td>4.803333</td>\n",
       "      <td>5.02</td>\n",
       "      <td>4.049350</td>\n",
       "      <td>101.666667</td>\n",
       "      <td>97.9</td>\n",
       "      <td>11.521429</td>\n",
       "    </tr>\n",
       "    <tr>\n",
       "      <th>pink</th>\n",
       "      <td>6.334512</td>\n",
       "      <td>6.415</td>\n",
       "      <td>0.986762</td>\n",
       "      <td>4406.768293</td>\n",
       "      <td>3511.0</td>\n",
       "      <td>3535.917204</td>\n",
       "      <td>51.649878</td>\n",
       "      <td>17.52</td>\n",
       "      <td>161.496482</td>\n",
       "      <td>62.395122</td>\n",
       "      <td>74.4</td>\n",
       "      <td>28.567546</td>\n",
       "    </tr>\n",
       "  </tbody>\n",
       "</table>\n",
       "</div>"
      ],
      "text/plain": [
       "             Economic Freedom Summary Index                  GDP_PerCapita  \\\n",
       "                                       mean median       std          mean   \n",
       "cluster                                                                      \n",
       "dark purple                        7.799412  7.810  0.442457  50671.823529   \n",
       "light purple                       7.316087  7.360  0.402139  22474.695652   \n",
       "mauve                              8.163333  8.110  0.283784  96784.000000   \n",
       "pink                               6.334512  6.415  0.986762   4406.768293   \n",
       "\n",
       "                                      Pop_mill                     \\\n",
       "               median           std       mean median         std   \n",
       "cluster                                                             \n",
       "dark purple   48106.0   8457.752126  40.152941   9.04   81.046975   \n",
       "light purple  22413.0   5728.955763  12.167826   4.03   17.134611   \n",
       "mauve         86919.0  17668.343414   4.803333   5.02    4.049350   \n",
       "pink           3511.0   3535.917204  51.649878  17.52  161.496482   \n",
       "\n",
       "             Enroll_Ratio_Secondary_Female                    \n",
       "                                      mean median        std  \n",
       "cluster                                                       \n",
       "dark purple                     110.241176  107.0  18.679971  \n",
       "light purple                    100.286957   98.9   7.875468  \n",
       "mauve                           101.666667   97.9  11.521429  \n",
       "pink                             62.395122   74.4  28.567546  "
      ]
     },
     "execution_count": 30,
     "metadata": {},
     "output_type": "execute_result"
    }
   ],
   "source": [
    "df_Cluster.groupby('cluster').agg({'Economic Freedom Summary Index':['mean', 'median','std'], \n",
    "                         'GDP_PerCapita':['mean', 'median','std'], \n",
    "                         'Pop_mill':['mean', 'median','std'],\n",
    "                          'Enroll_Ratio_Secondary_Female':['mean', 'median','std']})"
   ]
  },
  {
   "cell_type": "markdown",
   "id": "c3dd35ad",
   "metadata": {},
   "source": [
    "Note that I reported standard deviation as well as mean and median.\n",
    "\n",
    "The pink (poorest) nations had a mean Economic Freedom Index of 6.33, by far the smallest, but the standard deviation is by far the highest at 0.9868. The pink (poorest) nations also had by far the smallest GDP per capita, but the standard deviation was much lower, though not necessariy in proportion to the size of the GDP per capita. The pink (poorest) nations also had the smallest female secondary enrollment, but also the highest standard deviation. We can clearly conclude that among the relatively poorer nations of the world that there is much diversity in terms of Economic Freedom and female enrollment. \n",
    "\n",
    "The richest three nations had a mean of 8.1633. Note that these countries are Luxembourg, Switzerland, and Ireland. It is not surprising that the standard deviations of these data ponts is very small as there are only three of them -- we can see the wide variation in the scatterplots above. Note that these are relatively small countries by population\n",
    "\n",
    "It is interesting to note that mauve countries are richer (by per capita GDP) than light purple, and they have much larger populations. I have not included a lot of considerations about population in my analysis of this data set so far. Perhaps in the final project?"
   ]
  }
 ],
 "metadata": {
  "kernelspec": {
   "display_name": "Python 3 (ipykernel)",
   "language": "python",
   "name": "python3"
  },
  "language_info": {
   "codemirror_mode": {
    "name": "ipython",
    "version": 3
   },
   "file_extension": ".py",
   "mimetype": "text/x-python",
   "name": "python",
   "nbconvert_exporter": "python",
   "pygments_lexer": "ipython3",
   "version": "3.10.9"
  }
 },
 "nbformat": 4,
 "nbformat_minor": 5
}
