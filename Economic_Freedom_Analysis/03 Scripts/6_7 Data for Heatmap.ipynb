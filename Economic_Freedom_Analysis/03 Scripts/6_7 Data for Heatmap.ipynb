{
 "cells": [
  {
   "cell_type": "markdown",
   "id": "af15a74c",
   "metadata": {},
   "source": [
    "# 6.7 Data for Heatmap"
   ]
  },
  {
   "cell_type": "markdown",
   "id": "ab8b1a6f",
   "metadata": {},
   "source": [
    "## This Script Contains the Following points\n",
    "\n",
    "### 1. Importing Libraries\n",
    "### 2. Importing  and Checking Data sets\n",
    "### 3. Correlation Heatmap Prep Data and Merge\n",
    "\n",
    "\n",
    "\n",
    "\n",
    "\n",
    "### 4. Export Data to pickle files"
   ]
  },
  {
   "cell_type": "markdown",
   "id": "264eef61",
   "metadata": {},
   "source": [
    "### 1. Importing Libraries"
   ]
  },
  {
   "cell_type": "code",
   "execution_count": 1,
   "id": "25fa5cde",
   "metadata": {},
   "outputs": [],
   "source": [
    "# Import Libraries with visualization capabilities\n",
    "import pandas as pd\n",
    "import numpy as np\n",
    "import os\n",
    "import matplotlib.pyplot as plt\n",
    "import seaborn as sns\n",
    "import scipy"
   ]
  },
  {
   "cell_type": "markdown",
   "id": "b0a2b841",
   "metadata": {},
   "source": [
    "### 2. Importing and Checking Data sets"
   ]
  },
  {
   "cell_type": "code",
   "execution_count": 2,
   "id": "4beed765",
   "metadata": {},
   "outputs": [],
   "source": [
    "# Import .pkl files\n",
    "\n",
    "#First create a string of the path for th emain project folder\n",
    "path = r'/Users/mistystone/Library/CloudStorage/OneDrive-Personal/Documents/CF_Data_Ach6_Dashboard/Economic_Freedom_Analysis/'\n",
    "\n",
    "#Import Data\n",
    "df_EconFreeData = pd.read_pickle(os.path.join(path, '02 Data', 'Prepared Data', 'EconFreeData.pkl'))\n",
    "df_GDP = pd.read_pickle(os.path.join(path, '02 Data', 'Prepared Data','GDP.pkl'))\n",
    "df_Pop = pd.read_pickle(os.path.join(path, '02 Data', 'Prepared Data','Pop.pkl'))\n",
    "df_CPI = pd.read_pickle(os.path.join(path, '02 Data', 'Prepared Data','CPI.pkl'))\n",
    "df_Unemployment = pd.read_pickle(os.path.join(path, '02 Data', 'Prepared Data','Unemployment.pkl'))\n",
    "df_Education = pd.read_pickle(os.path.join(path, '02 Data', 'Prepared Data','Education.pkl'))\n",
    "df_Continent = pd.read_pickle(os.path.join(path, '02 Data', 'Prepared Data','Continent.pkl'))\n",
    "df_IncomeGroup = pd.read_pickle(os.path.join(path, '02 Data', 'Prepared Data','IncomeGroup.pkl'))\n",
    "df_Indicators= pd.read_pickle(os.path.join(path, '02 Data', 'Prepared Data','Indicators.pkl'))\n",
    "\n"
   ]
  },
  {
   "cell_type": "code",
   "execution_count": 3,
   "id": "8d02a62d",
   "metadata": {},
   "outputs": [
    {
     "name": "stdout",
     "output_type": "stream",
     "text": [
      "   Year    Country  Economic Freedom Summary Index   Rank  Quartile\n",
      "0  2021    Albania                            7.60   31.0       1.0\n",
      "1  2021    Algeria                            4.82  157.0       4.0\n",
      "2  2021     Angola                            5.38  149.0       4.0\n",
      "3  2021  Argentina                            4.77  158.0       4.0\n",
      "4  2021    Armenia                            7.58   33.0       1.0\n",
      "\n",
      "       Country  Year  GDP_PerCapita  GDP_2010Prices_Millions\n",
      "0  Afghanistan  1995          152.0                   6335.0\n",
      "1  Afghanistan  2005          242.0                   9596.0\n",
      "2  Afghanistan  2010          504.0                  14744.0\n",
      "3  Afghanistan  2015          544.0                  18713.0\n",
      "4  Afghanistan  2018          496.0                  19738.0\n",
      "\n",
      "          Country  Year  Pop_mill  Pop_male_mill  Pop_female_mill  \\\n",
      "0     Afghanistan  2010     28.19          14.24            13.95   \n",
      "1         Albania  2010      2.91           1.46             1.45   \n",
      "2         Algeria  2010     35.86          18.28            17.57   \n",
      "3  American Samoa  2010      0.05           0.03             0.03   \n",
      "4         Andorra  2010      0.07           0.04             0.04   \n",
      "\n",
      "   Pop_0_14_per  Pop_60_plus_per  Pop_density  Surface_area_thou_km2  \n",
      "0          49.0              3.8         43.4                    NaN  \n",
      "1          21.0             16.2        106.3                    NaN  \n",
      "2          27.6              7.1         15.1                    NaN  \n",
      "3          34.6              6.7        274.2                    NaN  \n",
      "4          16.3             15.3        152.2                    NaN  \n",
      "\n",
      "                 Country  Year  CPI_General  CPI_Food\n",
      "0  Aland Islands Islands  2000         85.6      83.4\n",
      "1                Albania  2000         74.1       NaN\n",
      "2                Algeria  2000         70.4       NaN\n",
      "3                 Angola  2000          2.9       NaN\n",
      "4               Anguilla  2000         68.4       NaN\n",
      "\n",
      "       Country  Year  Unemp_Male  Unemp_Female  Unemp_Total\n",
      "0  Afghanistan  2005        10.6          14.3         11.2\n",
      "1      Albania  2005        15.6          16.4         16.0\n",
      "2      Algeria  2005        14.9          17.2         15.3\n",
      "3       Angola  2005         4.7           3.0          3.9\n",
      "4    Argentina  2005        10.0          13.6         11.5\n",
      "\n",
      "               Country  Year  Enroll_Ratio_Primary_Female  \\\n",
      "0  Antigua and Barbuda  2000                          NaN   \n",
      "1              Armenia  2000                         99.3   \n",
      "2        Guinea-Bissau  2000                         60.6   \n",
      "3           Kazakhstan  2000                         97.1   \n",
      "4              Liberia  2000                         98.5   \n",
      "\n",
      "   Enroll_Ratio_Primary_Male  Enroll_Ratio_Secondary_Female  \\\n",
      "0                        NaN                           76.6   \n",
      "1                       98.0                           96.5   \n",
      "2                       90.9                           12.7   \n",
      "3                       96.8                           96.2   \n",
      "4                      133.7                           30.3   \n",
      "\n",
      "   Enroll_Ratio_Secondary_Male  Enroll_Ratio_UpperSecondary_Female  \\\n",
      "0                         83.0                                77.8   \n",
      "1                         87.8                                89.9   \n",
      "2                         23.6                                 7.5   \n",
      "3                         91.3                               102.0   \n",
      "4                         41.4                                29.5   \n",
      "\n",
      "   Enroll_Ratio_UpperSecondary_Male  \n",
      "0                              78.0  \n",
      "1                              79.8  \n",
      "2                              14.3  \n",
      "3                              94.8  \n",
      "4                              34.4  \n",
      "\n",
      "          Country Continent\n",
      "0     Afghanistan      Asia\n",
      "1   Åland Islands    Europe\n",
      "2         Albania    Europe\n",
      "3         Algeria    Africa\n",
      "4  American Samoa   Oceania\n",
      "\n",
      "       Country         Income group\n",
      "0        Aruba          High income\n",
      "1  Afghanistan           Low income\n",
      "2       Angola  Lower middle income\n",
      "3      Albania  Upper middle income\n",
      "4      Andorra          High income\n",
      "\n",
      "     Country  Landlocked?  LDC?  English?\n",
      "0    Albania            0     0         0\n",
      "1    Algeria            0     0         0\n",
      "2     Angola            0     1         0\n",
      "3  Argentina            0     0         1\n",
      "4    Armenia            1     0         0\n"
     ]
    }
   ],
   "source": [
    "# Check heads\n",
    "\n",
    "print(df_EconFreeData.head(5))\n",
    "print()\n",
    "print(df_GDP.head(5))\n",
    "print()\n",
    "print(df_Pop.head(5))\n",
    "print()\n",
    "print(df_CPI.head(5))\n",
    "print()\n",
    "print(df_Unemployment.head(5))\n",
    "print()\n",
    "print(df_Education.head(5))\n",
    "print()\n",
    "print(df_Continent.head(5))\n",
    "print()\n",
    "print(df_IncomeGroup.head(5))\n",
    "print()\n",
    "print(df_Indicators.head(5))"
   ]
  },
  {
   "cell_type": "code",
   "execution_count": 4,
   "id": "839f393a",
   "metadata": {},
   "outputs": [
    {
     "name": "stdout",
     "output_type": "stream",
     "text": [
      "df_EconFreeData.describe()\n",
      "              Year  Economic Freedom Summary Index         Rank     Quartile\n",
      "count  4620.000000                     3941.000000  3941.000000  3941.000000\n",
      "mean   2004.500000                        6.531094    72.315148     2.475768\n",
      "std      13.389877                        1.221003    43.216456     1.111424\n",
      "min    1970.000000                        1.870000     1.000000     1.000000\n",
      "25%    2000.750000                        5.780000    36.000000     1.000000\n",
      "50%    2007.500000                        6.630000    71.000000     2.000000\n",
      "75%    2014.250000                        7.460000   106.000000     3.000000\n",
      "max    2021.000000                        9.280000   165.000000     4.000000\n",
      "\n",
      "df_GDP.describe()\n",
      "              Year  GDP_PerCapita  GDP_2010Prices_Millions\n",
      "count  1481.000000    1481.000000             1.481000e+03\n",
      "mean   2011.751519   14873.457124             3.250801e+05\n",
      "std       8.422804   23747.766257             1.479637e+06\n",
      "min    1995.000000      91.000000             2.000000e+01\n",
      "25%    2005.000000    1480.000000             4.370000e+03\n",
      "50%    2015.000000    4897.000000             2.011300e+04\n",
      "75%    2019.000000   18350.000000             1.243810e+05\n",
      "max    2020.000000  189507.000000             1.992544e+07\n",
      "\n",
      "df_Pop.describe()\n",
      "              Year     Pop_mill  Pop_male_mill  Pop_female_mill  Pop_0_14_per  \\\n",
      "count   926.000000   922.000000     922.000000       922.000000    922.000000   \n",
      "mean   2016.725702    32.482213      16.339176        16.143471     26.903688   \n",
      "std       4.665958   132.593201      67.920643        64.685529     10.414853   \n",
      "min    2010.000000     0.000000       0.000000         0.000000     11.000000   \n",
      "25%    2010.000000     0.412500       0.212500         0.212500     17.625000   \n",
      "50%    2015.000000     5.410000       2.690000         2.680000     24.900000   \n",
      "75%    2022.000000    20.392500      10.025000        10.390000     35.825000   \n",
      "max    2022.000000  1425.890000     731.180000       698.240000     49.900000   \n",
      "\n",
      "       Pop_60_plus_per   Pop_density  Surface_area_thou_km2  \n",
      "count       922.000000    926.000000             453.000000  \n",
      "mean         13.109870    442.943089             591.991170  \n",
      "std           8.205149   2161.030322            1792.327885  \n",
      "min           0.300000      0.100000               0.000000  \n",
      "25%           5.900000     34.225000               4.000000  \n",
      "50%          10.800000     90.050000              84.000000  \n",
      "75%          19.975000    228.475000             439.000000  \n",
      "max          43.700000  24779.900000           17098.000000  \n",
      "\n",
      "df_CPI.describe()\n",
      "              Year   CPI_General     CPI_Food\n",
      "count  1237.000000   1237.000000   811.000000\n",
      "mean   2013.220695    268.354325   141.318619\n",
      "std       7.240927   2883.741869   243.062678\n",
      "min    2000.000000      0.000000    19.600000\n",
      "25%    2005.000000     95.000000   100.000000\n",
      "50%    2015.000000    108.100000   113.300000\n",
      "75%    2020.000000    126.300000   134.700000\n",
      "max    2021.000000  93584.200000  6268.900000\n",
      "\n",
      "df_Unemployment.describe()\n",
      "              Year  Unemp_Male  Unemp_Female  Unemp_Total\n",
      "count   779.000000  774.000000    774.000000   779.000000\n",
      "mean   2012.806162    7.841085     10.052842     8.525802\n",
      "std       6.280476    5.951235      8.064846     6.462078\n",
      "min    2005.000000    0.100000      0.300000     0.100000\n",
      "25%    2005.000000    3.625000      4.300000     4.100000\n",
      "50%    2010.000000    6.100000      7.300000     6.800000\n",
      "75%    2015.000000   10.375000     13.200000    11.100000\n",
      "max    2022.000000   36.500000     60.500000    41.400000\n",
      "\n",
      "df_Education.describe()\n",
      "              Year  Enroll_Ratio_Primary_Female  Enroll_Ratio_Primary_Male  \\\n",
      "count   845.000000                   818.000000                 818.000000   \n",
      "mean   2011.822485                   102.210880                 105.291320   \n",
      "std       5.525830                    15.113827                  14.037997   \n",
      "min    2000.000000                    16.600000                  30.100000   \n",
      "25%    2005.000000                    97.600000                  98.900000   \n",
      "50%    2010.000000                   102.200000                 103.400000   \n",
      "75%    2015.000000                   109.475000                 112.500000   \n",
      "max    2021.000000                   163.400000                 164.200000   \n",
      "\n",
      "       Enroll_Ratio_Secondary_Female  Enroll_Ratio_Secondary_Male  \\\n",
      "count                     710.000000                   710.000000   \n",
      "mean                       81.710563                    81.499859   \n",
      "std                        30.888435                    27.745554   \n",
      "min                         3.700000                     8.100000   \n",
      "25%                        62.025000                    62.275000   \n",
      "50%                        90.150000                    87.500000   \n",
      "75%                       101.800000                   100.775000   \n",
      "max                       180.400000                   173.500000   \n",
      "\n",
      "       Enroll_Ratio_UpperSecondary_Female  Enroll_Ratio_UpperSecondary_Male  \n",
      "count                          708.000000                        710.000000  \n",
      "mean                            74.658898                         72.913239  \n",
      "std                             37.629129                         34.986682  \n",
      "min                              2.900000                          5.300000  \n",
      "25%                             42.400000                         46.450000  \n",
      "50%                             80.800000                         74.200000  \n",
      "75%                             98.350000                         96.600000  \n",
      "max                            210.200000                        239.800000  \n",
      "\n",
      "df_Continent.describe()\n",
      "            Country Continent\n",
      "count           248       248\n",
      "unique          248         7\n",
      "top     Afghanistan    Africa\n",
      "freq              1        60\n",
      "\n",
      "df_IncomeGroup.describe()\n",
      "       Country Income group\n",
      "count      218          217\n",
      "unique     218            4\n",
      "top      Aruba  High income\n",
      "freq         1           83\n",
      "\n",
      "df_Indicators.describe()\n",
      "       Landlocked?        LDC?    English?\n",
      "count   165.000000  165.000000  165.000000\n",
      "mean      0.175758    0.236364    0.393939\n",
      "std       0.381772    0.426141    0.490109\n",
      "min       0.000000    0.000000    0.000000\n",
      "25%       0.000000    0.000000    0.000000\n",
      "50%       0.000000    0.000000    0.000000\n",
      "75%       0.000000    0.000000    1.000000\n",
      "max       1.000000    1.000000    1.000000\n"
     ]
    }
   ],
   "source": [
    "# Descriptive Statistics\n",
    "\n",
    "print('df_EconFreeData.describe()')\n",
    "print(df_EconFreeData.describe())\n",
    "print()\n",
    "print('df_GDP.describe()')\n",
    "print(df_GDP.describe())\n",
    "print()\n",
    "print('df_Pop.describe()')\n",
    "print(df_Pop.describe())\n",
    "print()\n",
    "print('df_CPI.describe()')\n",
    "print(df_CPI.describe())\n",
    "print()\n",
    "print('df_Unemployment.describe()')\n",
    "print(df_Unemployment.describe())\n",
    "print()\n",
    "print('df_Education.describe()')\n",
    "print(df_Education.describe())\n",
    "print()\n",
    "print('df_Continent.describe()')\n",
    "print(df_Continent.describe())\n",
    "print()\n",
    "print('df_IncomeGroup.describe()')\n",
    "print(df_IncomeGroup.describe())\n",
    "print()\n",
    "print('df_Indicators.describe()')\n",
    "print(df_Indicators.describe())\n"
   ]
  },
  {
   "cell_type": "markdown",
   "id": "09ed9191",
   "metadata": {},
   "source": [
    "### 3. Correlation Heatmap Prep Data and Merge"
   ]
  },
  {
   "cell_type": "code",
   "execution_count": 5,
   "id": "653c471a",
   "metadata": {},
   "outputs": [],
   "source": [
    "# Limit Economic Freedom index to most recent year.\n",
    "df_EconFree_2021 = df_EconFreeData.loc[df_EconFreeData['Year'].isin([2021])]\n",
    "df_EconFree_2021 = df_EconFree_2021.drop(['Year'], axis = 1)"
   ]
  },
  {
   "cell_type": "code",
   "execution_count": 6,
   "id": "361fb2ac",
   "metadata": {
    "scrolled": true
   },
   "outputs": [
    {
     "data": {
      "text/html": [
       "<div>\n",
       "<style scoped>\n",
       "    .dataframe tbody tr th:only-of-type {\n",
       "        vertical-align: middle;\n",
       "    }\n",
       "\n",
       "    .dataframe tbody tr th {\n",
       "        vertical-align: top;\n",
       "    }\n",
       "\n",
       "    .dataframe thead th {\n",
       "        text-align: right;\n",
       "    }\n",
       "</style>\n",
       "<table border=\"1\" class=\"dataframe\">\n",
       "  <thead>\n",
       "    <tr style=\"text-align: right;\">\n",
       "      <th></th>\n",
       "      <th>Country</th>\n",
       "      <th>Economic Freedom Summary Index</th>\n",
       "      <th>Rank</th>\n",
       "      <th>Quartile</th>\n",
       "    </tr>\n",
       "  </thead>\n",
       "  <tbody>\n",
       "    <tr>\n",
       "      <th>0</th>\n",
       "      <td>Albania</td>\n",
       "      <td>7.60</td>\n",
       "      <td>31.0</td>\n",
       "      <td>1.0</td>\n",
       "    </tr>\n",
       "    <tr>\n",
       "      <th>1</th>\n",
       "      <td>Algeria</td>\n",
       "      <td>4.82</td>\n",
       "      <td>157.0</td>\n",
       "      <td>4.0</td>\n",
       "    </tr>\n",
       "    <tr>\n",
       "      <th>2</th>\n",
       "      <td>Angola</td>\n",
       "      <td>5.38</td>\n",
       "      <td>149.0</td>\n",
       "      <td>4.0</td>\n",
       "    </tr>\n",
       "    <tr>\n",
       "      <th>3</th>\n",
       "      <td>Argentina</td>\n",
       "      <td>4.77</td>\n",
       "      <td>158.0</td>\n",
       "      <td>4.0</td>\n",
       "    </tr>\n",
       "    <tr>\n",
       "      <th>4</th>\n",
       "      <td>Armenia</td>\n",
       "      <td>7.58</td>\n",
       "      <td>33.0</td>\n",
       "      <td>1.0</td>\n",
       "    </tr>\n",
       "  </tbody>\n",
       "</table>\n",
       "</div>"
      ],
      "text/plain": [
       "     Country  Economic Freedom Summary Index   Rank  Quartile\n",
       "0    Albania                            7.60   31.0       1.0\n",
       "1    Algeria                            4.82  157.0       4.0\n",
       "2     Angola                            5.38  149.0       4.0\n",
       "3  Argentina                            4.77  158.0       4.0\n",
       "4    Armenia                            7.58   33.0       1.0"
      ]
     },
     "execution_count": 6,
     "metadata": {},
     "output_type": "execute_result"
    }
   ],
   "source": [
    "df_EconFree_2021.head()"
   ]
  },
  {
   "cell_type": "code",
   "execution_count": 7,
   "id": "a974aa23",
   "metadata": {},
   "outputs": [
    {
     "data": {
      "text/plain": [
       "(165, 4)"
      ]
     },
     "execution_count": 7,
     "metadata": {},
     "output_type": "execute_result"
    }
   ],
   "source": [
    "df_EconFree_2021.shape"
   ]
  },
  {
   "cell_type": "code",
   "execution_count": 8,
   "id": "5ae330d0",
   "metadata": {},
   "outputs": [
    {
     "name": "stdout",
     "output_type": "stream",
     "text": [
      "        Country  GDP_PerCapita  GDP_2010Prices_Millions\n",
      "6   Afghanistan          508.0                  20113.0\n",
      "13      Albania         5181.0                  12541.0\n",
      "20      Algeria         3368.0                 168331.0\n",
      "27      Andorra        37072.0                   2648.0\n",
      "34       Angola         1896.0                 105625.0\n",
      "\n",
      "(212, 3)\n"
     ]
    }
   ],
   "source": [
    "#Limit GDP to most recent year\n",
    "df_GDP_2020 = df_GDP.loc[df_GDP['Year'].isin([2020])]\n",
    "df_GDP_2020 = df_GDP_2020.drop(['Year'], axis = 1)\n",
    "print(df_GDP_2020.head())\n",
    "print('')\n",
    "print(df_GDP_2020.shape)"
   ]
  },
  {
   "cell_type": "code",
   "execution_count": 9,
   "id": "86fa8421",
   "metadata": {},
   "outputs": [
    {
     "name": "stdout",
     "output_type": "stream",
     "text": [
      "            Country  Pop_mill  Pop_male_mill  Pop_female_mill  Pop_0_14_per  \\\n",
      "693     Afghanistan     41.13          20.77            20.36          43.1   \n",
      "694         Albania      2.84           1.42             1.42          16.1   \n",
      "695         Algeria     44.90          22.86            22.04          30.6   \n",
      "696  American Samoa      0.04           0.02             0.02          27.1   \n",
      "697         Andorra      0.08           0.04             0.04          12.8   \n",
      "\n",
      "     Pop_60_plus_per  Pop_density  Surface_area_thou_km2  \n",
      "693              3.8         63.3                    NaN  \n",
      "694             23.5        103.7                    NaN  \n",
      "695              9.7         18.9                    NaN  \n",
      "696             12.1        221.4                    NaN  \n",
      "697             21.6        169.8                    NaN  \n",
      "\n",
      "(233, 8)\n"
     ]
    }
   ],
   "source": [
    "#Limit Population to most recent year\n",
    "df_Pop_2022 = df_Pop.loc[df_Pop['Year'].isin([2022])]\n",
    "df_Pop_2022 = df_Pop_2022.drop(['Year'], axis = 1)\n",
    "print(df_Pop_2022.head())\n",
    "print('')\n",
    "print(df_Pop_2022.shape)"
   ]
  },
  {
   "cell_type": "code",
   "execution_count": 10,
   "id": "a1034875",
   "metadata": {},
   "outputs": [
    {
     "name": "stdout",
     "output_type": "stream",
     "text": [
      "                    Country  CPI_General  CPI_Food\n",
      "1072  Aland Islands Islands        114.7     119.8\n",
      "1073                Albania        123.5     144.9\n",
      "1074                Algeria        166.2     161.7\n",
      "1075                Andorra        108.1     120.6\n",
      "1076               Anguilla        108.5     120.4\n",
      "\n",
      "(165, 3)\n"
     ]
    }
   ],
   "source": [
    "#Limit CPI to most recent year\n",
    "df_CPI_2021 = df_CPI.loc[df_CPI['Year'].isin([2021])]\n",
    "df_CPI_2021 = df_CPI_2021.drop(['Year'], axis = 1)\n",
    "print(df_CPI_2021.head())\n",
    "print('')\n",
    "print(df_CPI_2021.shape)"
   ]
  },
  {
   "cell_type": "code",
   "execution_count": 11,
   "id": "85f1b3be",
   "metadata": {},
   "outputs": [
    {
     "name": "stdout",
     "output_type": "stream",
     "text": [
      "         Country  Unemp_Male  Unemp_Female  Unemp_Total\n",
      "591  Afghanistan        17.0          26.4         18.5\n",
      "592      Albania        10.8          10.9         10.9\n",
      "593      Algeria         9.9          21.5         12.2\n",
      "594       Angola         7.7           8.8          8.3\n",
      "595    Argentina         8.9          12.8         10.6\n",
      "\n",
      "(188, 4)\n"
     ]
    }
   ],
   "source": [
    "#Limit Unemployment to most recent year\n",
    "df_Unemployment_2022 = df_Unemployment.loc[df_Unemployment['Year'].isin([2022])]\n",
    "df_Unemployment_2022 = df_Unemployment_2022.drop(['Year'], axis = 1)\n",
    "print(df_Unemployment_2022.head())\n",
    "print('')\n",
    "print(df_Unemployment_2022.shape)"
   ]
  },
  {
   "cell_type": "code",
   "execution_count": 12,
   "id": "a2532293",
   "metadata": {},
   "outputs": [
    {
     "name": "stdout",
     "output_type": "stream",
     "text": [
      "        Country  Enroll_Ratio_Primary_Female  Enroll_Ratio_Primary_Male  \\\n",
      "38  Afghanistan                         71.8                      123.1   \n",
      "39      Albania                        101.0                      100.4   \n",
      "40      Algeria                        103.3                      111.7   \n",
      "41     Anguilla                        114.5                      112.5   \n",
      "42    Argentina                        114.7                      115.8   \n",
      "\n",
      "    Enroll_Ratio_Secondary_Female  Enroll_Ratio_Secondary_Male  \\\n",
      "38                            9.0                         27.6   \n",
      "39                           76.5                         79.2   \n",
      "40                           82.7                         75.5   \n",
      "41                           94.7                         96.0   \n",
      "42                           96.8                         88.8   \n",
      "\n",
      "    Enroll_Ratio_UpperSecondary_Female  Enroll_Ratio_UpperSecondary_Male  \n",
      "38                                 4.9                              17.5  \n",
      "39                                56.8                              62.1  \n",
      "40                                62.4                              42.3  \n",
      "41                                93.5                              92.0  \n",
      "42                                75.6                              65.2  \n",
      "\n",
      "(178, 7)\n"
     ]
    }
   ],
   "source": [
    "#Limit Education to the year with the most data\n",
    "df_Education_2005 = df_Education.loc[df_Education['Year'].isin([2005])]\n",
    "df_Education_2005 = df_Education_2005.drop(['Year'], axis = 1)\n",
    "print(df_Education_2005.head())\n",
    "print('')\n",
    "print(df_Education_2005.shape)"
   ]
  },
  {
   "cell_type": "code",
   "execution_count": 13,
   "id": "52be58f1",
   "metadata": {
    "scrolled": true
   },
   "outputs": [],
   "source": [
    "#merge\n",
    "df_recent = df_EconFree_2021.merge(df_GDP_2020, on = 'Country')\n"
   ]
  },
  {
   "cell_type": "code",
   "execution_count": 14,
   "id": "c7505f41",
   "metadata": {
    "scrolled": true
   },
   "outputs": [
    {
     "data": {
      "text/plain": [
       "(165, 6)"
      ]
     },
     "execution_count": 14,
     "metadata": {},
     "output_type": "execute_result"
    }
   ],
   "source": [
    "#check\n",
    "df_recent.shape"
   ]
  },
  {
   "cell_type": "code",
   "execution_count": 15,
   "id": "d43d0008",
   "metadata": {},
   "outputs": [],
   "source": [
    "df_recent = df_recent.merge(df_Pop_2022, on = 'Country')\n",
    "#merge with population data"
   ]
  },
  {
   "cell_type": "code",
   "execution_count": 16,
   "id": "85ce58e3",
   "metadata": {},
   "outputs": [
    {
     "data": {
      "text/plain": [
       "(165, 13)"
      ]
     },
     "execution_count": 16,
     "metadata": {},
     "output_type": "execute_result"
    }
   ],
   "source": [
    "df_recent.shape # check"
   ]
  },
  {
   "cell_type": "code",
   "execution_count": 17,
   "id": "ef4411f5",
   "metadata": {},
   "outputs": [],
   "source": [
    "df_recent = df_recent.merge(df_CPI_2021, on = 'Country', how = 'left')\n",
    "#merge with CPI. Left join keeps the countries not on the CPI list."
   ]
  },
  {
   "cell_type": "code",
   "execution_count": 18,
   "id": "55edacc2",
   "metadata": {
    "scrolled": true
   },
   "outputs": [
    {
     "data": {
      "text/plain": [
       "(165, 15)"
      ]
     },
     "execution_count": 18,
     "metadata": {},
     "output_type": "execute_result"
    }
   ],
   "source": [
    "df_recent.shape # check"
   ]
  },
  {
   "cell_type": "code",
   "execution_count": 19,
   "id": "4ddf3a5f",
   "metadata": {},
   "outputs": [],
   "source": [
    "df_recent = df_recent.merge(df_Unemployment_2022, on = 'Country', how = 'left')\n",
    "# merge with Unemployment data"
   ]
  },
  {
   "cell_type": "code",
   "execution_count": 20,
   "id": "92ddcd55",
   "metadata": {},
   "outputs": [
    {
     "data": {
      "text/plain": [
       "(165, 18)"
      ]
     },
     "execution_count": 20,
     "metadata": {},
     "output_type": "execute_result"
    }
   ],
   "source": [
    "df_recent.shape # check"
   ]
  },
  {
   "cell_type": "code",
   "execution_count": 21,
   "id": "dac947b0",
   "metadata": {
    "scrolled": true
   },
   "outputs": [],
   "source": [
    "df_recent = df_recent.merge(df_Education_2005, on = 'Country', how = 'left')\n",
    "#merge "
   ]
  },
  {
   "cell_type": "code",
   "execution_count": 22,
   "id": "9ad978af",
   "metadata": {},
   "outputs": [
    {
     "data": {
      "text/plain": [
       "(165, 24)"
      ]
     },
     "execution_count": 22,
     "metadata": {},
     "output_type": "execute_result"
    }
   ],
   "source": [
    "df_recent.shape # check"
   ]
  },
  {
   "cell_type": "code",
   "execution_count": 23,
   "id": "b8eef839",
   "metadata": {},
   "outputs": [],
   "source": [
    "df_recent = df_recent.merge(df_Continent, on = 'Country', how = 'left')\n",
    "# merge with continent data"
   ]
  },
  {
   "cell_type": "code",
   "execution_count": 24,
   "id": "db5c9c60",
   "metadata": {},
   "outputs": [
    {
     "data": {
      "text/plain": [
       "(165, 25)"
      ]
     },
     "execution_count": 24,
     "metadata": {},
     "output_type": "execute_result"
    }
   ],
   "source": [
    "df_recent.shape # check"
   ]
  },
  {
   "cell_type": "code",
   "execution_count": 25,
   "id": "57537e6b",
   "metadata": {},
   "outputs": [],
   "source": [
    "df_recent = df_recent.merge(df_IncomeGroup, on = 'Country', how = 'left') # merge"
   ]
  },
  {
   "cell_type": "code",
   "execution_count": 26,
   "id": "cdb3a69e",
   "metadata": {},
   "outputs": [],
   "source": [
    "df_recent = df_recent.merge(df_Indicators, on = 'Country', how = 'left') # merge"
   ]
  },
  {
   "cell_type": "code",
   "execution_count": 27,
   "id": "fb8b37f7",
   "metadata": {},
   "outputs": [
    {
     "data": {
      "text/plain": [
       "(165, 29)"
      ]
     },
     "execution_count": 27,
     "metadata": {},
     "output_type": "execute_result"
    }
   ],
   "source": [
    "df_recent.shape # check"
   ]
  },
  {
   "cell_type": "code",
   "execution_count": 28,
   "id": "fb3aa7c3",
   "metadata": {},
   "outputs": [
    {
     "data": {
      "text/html": [
       "<div>\n",
       "<style scoped>\n",
       "    .dataframe tbody tr th:only-of-type {\n",
       "        vertical-align: middle;\n",
       "    }\n",
       "\n",
       "    .dataframe tbody tr th {\n",
       "        vertical-align: top;\n",
       "    }\n",
       "\n",
       "    .dataframe thead th {\n",
       "        text-align: right;\n",
       "    }\n",
       "</style>\n",
       "<table border=\"1\" class=\"dataframe\">\n",
       "  <thead>\n",
       "    <tr style=\"text-align: right;\">\n",
       "      <th></th>\n",
       "      <th>Country</th>\n",
       "      <th>Economic Freedom Summary Index</th>\n",
       "      <th>Rank</th>\n",
       "      <th>Quartile</th>\n",
       "      <th>GDP_PerCapita</th>\n",
       "      <th>GDP_2010Prices_Millions</th>\n",
       "      <th>Pop_mill</th>\n",
       "      <th>Pop_male_mill</th>\n",
       "      <th>Pop_female_mill</th>\n",
       "      <th>Pop_0_14_per</th>\n",
       "      <th>...</th>\n",
       "      <th>Enroll_Ratio_Primary_Male</th>\n",
       "      <th>Enroll_Ratio_Secondary_Female</th>\n",
       "      <th>Enroll_Ratio_Secondary_Male</th>\n",
       "      <th>Enroll_Ratio_UpperSecondary_Female</th>\n",
       "      <th>Enroll_Ratio_UpperSecondary_Male</th>\n",
       "      <th>Continent</th>\n",
       "      <th>Income group</th>\n",
       "      <th>Landlocked?</th>\n",
       "      <th>LDC?</th>\n",
       "      <th>English?</th>\n",
       "    </tr>\n",
       "  </thead>\n",
       "  <tbody>\n",
       "    <tr>\n",
       "      <th>0</th>\n",
       "      <td>Albania</td>\n",
       "      <td>7.60</td>\n",
       "      <td>31.0</td>\n",
       "      <td>1.0</td>\n",
       "      <td>5181.0</td>\n",
       "      <td>12541.0</td>\n",
       "      <td>2.84</td>\n",
       "      <td>1.42</td>\n",
       "      <td>1.42</td>\n",
       "      <td>16.1</td>\n",
       "      <td>...</td>\n",
       "      <td>100.4</td>\n",
       "      <td>76.5</td>\n",
       "      <td>79.2</td>\n",
       "      <td>56.8</td>\n",
       "      <td>62.1</td>\n",
       "      <td>Europe</td>\n",
       "      <td>Upper middle income</td>\n",
       "      <td>0</td>\n",
       "      <td>0</td>\n",
       "      <td>0</td>\n",
       "    </tr>\n",
       "    <tr>\n",
       "      <th>1</th>\n",
       "      <td>Algeria</td>\n",
       "      <td>4.82</td>\n",
       "      <td>157.0</td>\n",
       "      <td>4.0</td>\n",
       "      <td>3368.0</td>\n",
       "      <td>168331.0</td>\n",
       "      <td>44.90</td>\n",
       "      <td>22.86</td>\n",
       "      <td>22.04</td>\n",
       "      <td>30.6</td>\n",
       "      <td>...</td>\n",
       "      <td>111.7</td>\n",
       "      <td>82.7</td>\n",
       "      <td>75.5</td>\n",
       "      <td>62.4</td>\n",
       "      <td>42.3</td>\n",
       "      <td>Africa</td>\n",
       "      <td>Lower middle income</td>\n",
       "      <td>0</td>\n",
       "      <td>0</td>\n",
       "      <td>0</td>\n",
       "    </tr>\n",
       "    <tr>\n",
       "      <th>2</th>\n",
       "      <td>Angola</td>\n",
       "      <td>5.38</td>\n",
       "      <td>149.0</td>\n",
       "      <td>4.0</td>\n",
       "      <td>1896.0</td>\n",
       "      <td>105625.0</td>\n",
       "      <td>35.59</td>\n",
       "      <td>17.59</td>\n",
       "      <td>18.00</td>\n",
       "      <td>45.0</td>\n",
       "      <td>...</td>\n",
       "      <td>NaN</td>\n",
       "      <td>NaN</td>\n",
       "      <td>NaN</td>\n",
       "      <td>NaN</td>\n",
       "      <td>NaN</td>\n",
       "      <td>Africa</td>\n",
       "      <td>Lower middle income</td>\n",
       "      <td>0</td>\n",
       "      <td>1</td>\n",
       "      <td>0</td>\n",
       "    </tr>\n",
       "    <tr>\n",
       "      <th>3</th>\n",
       "      <td>Argentina</td>\n",
       "      <td>4.77</td>\n",
       "      <td>158.0</td>\n",
       "      <td>4.0</td>\n",
       "      <td>8476.0</td>\n",
       "      <td>558065.0</td>\n",
       "      <td>45.51</td>\n",
       "      <td>22.53</td>\n",
       "      <td>22.98</td>\n",
       "      <td>23.1</td>\n",
       "      <td>...</td>\n",
       "      <td>115.8</td>\n",
       "      <td>96.8</td>\n",
       "      <td>88.8</td>\n",
       "      <td>75.6</td>\n",
       "      <td>65.2</td>\n",
       "      <td>South America</td>\n",
       "      <td>Upper middle income</td>\n",
       "      <td>0</td>\n",
       "      <td>0</td>\n",
       "      <td>1</td>\n",
       "    </tr>\n",
       "    <tr>\n",
       "      <th>4</th>\n",
       "      <td>Armenia</td>\n",
       "      <td>7.58</td>\n",
       "      <td>33.0</td>\n",
       "      <td>1.0</td>\n",
       "      <td>4266.0</td>\n",
       "      <td>11919.0</td>\n",
       "      <td>2.78</td>\n",
       "      <td>1.25</td>\n",
       "      <td>1.53</td>\n",
       "      <td>20.5</td>\n",
       "      <td>...</td>\n",
       "      <td>94.6</td>\n",
       "      <td>NaN</td>\n",
       "      <td>NaN</td>\n",
       "      <td>NaN</td>\n",
       "      <td>NaN</td>\n",
       "      <td>Asia</td>\n",
       "      <td>Upper middle income</td>\n",
       "      <td>1</td>\n",
       "      <td>0</td>\n",
       "      <td>0</td>\n",
       "    </tr>\n",
       "  </tbody>\n",
       "</table>\n",
       "<p>5 rows × 29 columns</p>\n",
       "</div>"
      ],
      "text/plain": [
       "     Country  Economic Freedom Summary Index   Rank  Quartile  GDP_PerCapita  \\\n",
       "0    Albania                            7.60   31.0       1.0         5181.0   \n",
       "1    Algeria                            4.82  157.0       4.0         3368.0   \n",
       "2     Angola                            5.38  149.0       4.0         1896.0   \n",
       "3  Argentina                            4.77  158.0       4.0         8476.0   \n",
       "4    Armenia                            7.58   33.0       1.0         4266.0   \n",
       "\n",
       "   GDP_2010Prices_Millions  Pop_mill  Pop_male_mill  Pop_female_mill  \\\n",
       "0                  12541.0      2.84           1.42             1.42   \n",
       "1                 168331.0     44.90          22.86            22.04   \n",
       "2                 105625.0     35.59          17.59            18.00   \n",
       "3                 558065.0     45.51          22.53            22.98   \n",
       "4                  11919.0      2.78           1.25             1.53   \n",
       "\n",
       "   Pop_0_14_per  ...  Enroll_Ratio_Primary_Male  \\\n",
       "0          16.1  ...                      100.4   \n",
       "1          30.6  ...                      111.7   \n",
       "2          45.0  ...                        NaN   \n",
       "3          23.1  ...                      115.8   \n",
       "4          20.5  ...                       94.6   \n",
       "\n",
       "   Enroll_Ratio_Secondary_Female  Enroll_Ratio_Secondary_Male  \\\n",
       "0                           76.5                         79.2   \n",
       "1                           82.7                         75.5   \n",
       "2                            NaN                          NaN   \n",
       "3                           96.8                         88.8   \n",
       "4                            NaN                          NaN   \n",
       "\n",
       "   Enroll_Ratio_UpperSecondary_Female  Enroll_Ratio_UpperSecondary_Male  \\\n",
       "0                                56.8                              62.1   \n",
       "1                                62.4                              42.3   \n",
       "2                                 NaN                               NaN   \n",
       "3                                75.6                              65.2   \n",
       "4                                 NaN                               NaN   \n",
       "\n",
       "       Continent         Income group  Landlocked?  LDC?  English?  \n",
       "0         Europe  Upper middle income            0     0         0  \n",
       "1         Africa  Lower middle income            0     0         0  \n",
       "2         Africa  Lower middle income            0     1         0  \n",
       "3  South America  Upper middle income            0     0         1  \n",
       "4           Asia  Upper middle income            1     0         0  \n",
       "\n",
       "[5 rows x 29 columns]"
      ]
     },
     "execution_count": 28,
     "metadata": {},
     "output_type": "execute_result"
    }
   ],
   "source": [
    "df_recent.head() # check"
   ]
  },
  {
   "cell_type": "code",
   "execution_count": 29,
   "id": "661206f3",
   "metadata": {},
   "outputs": [
    {
     "data": {
      "text/html": [
       "<div>\n",
       "<style scoped>\n",
       "    .dataframe tbody tr th:only-of-type {\n",
       "        vertical-align: middle;\n",
       "    }\n",
       "\n",
       "    .dataframe tbody tr th {\n",
       "        vertical-align: top;\n",
       "    }\n",
       "\n",
       "    .dataframe thead th {\n",
       "        text-align: right;\n",
       "    }\n",
       "</style>\n",
       "<table border=\"1\" class=\"dataframe\">\n",
       "  <thead>\n",
       "    <tr style=\"text-align: right;\">\n",
       "      <th></th>\n",
       "      <th>Economic Freedom Summary Index</th>\n",
       "      <th>Rank</th>\n",
       "      <th>Quartile</th>\n",
       "      <th>GDP_PerCapita</th>\n",
       "      <th>GDP_2010Prices_Millions</th>\n",
       "      <th>Pop_mill</th>\n",
       "      <th>Pop_male_mill</th>\n",
       "      <th>Pop_female_mill</th>\n",
       "      <th>Pop_0_14_per</th>\n",
       "      <th>Pop_60_plus_per</th>\n",
       "      <th>...</th>\n",
       "      <th>Unemp_Total</th>\n",
       "      <th>Enroll_Ratio_Primary_Female</th>\n",
       "      <th>Enroll_Ratio_Primary_Male</th>\n",
       "      <th>Enroll_Ratio_Secondary_Female</th>\n",
       "      <th>Enroll_Ratio_Secondary_Male</th>\n",
       "      <th>Enroll_Ratio_UpperSecondary_Female</th>\n",
       "      <th>Enroll_Ratio_UpperSecondary_Male</th>\n",
       "      <th>Landlocked?</th>\n",
       "      <th>LDC?</th>\n",
       "      <th>English?</th>\n",
       "    </tr>\n",
       "  </thead>\n",
       "  <tbody>\n",
       "    <tr>\n",
       "      <th>count</th>\n",
       "      <td>165.000000</td>\n",
       "      <td>165.000000</td>\n",
       "      <td>165.000000</td>\n",
       "      <td>165.000000</td>\n",
       "      <td>1.650000e+02</td>\n",
       "      <td>165.000000</td>\n",
       "      <td>165.000000</td>\n",
       "      <td>165.000000</td>\n",
       "      <td>165.000000</td>\n",
       "      <td>165.000000</td>\n",
       "      <td>...</td>\n",
       "      <td>164.000000</td>\n",
       "      <td>143.000000</td>\n",
       "      <td>143.000000</td>\n",
       "      <td>125.000000</td>\n",
       "      <td>125.000000</td>\n",
       "      <td>125.000000</td>\n",
       "      <td>125.000000</td>\n",
       "      <td>165.000000</td>\n",
       "      <td>165.000000</td>\n",
       "      <td>165.000000</td>\n",
       "    </tr>\n",
       "    <tr>\n",
       "      <th>mean</th>\n",
       "      <td>6.627576</td>\n",
       "      <td>82.975758</td>\n",
       "      <td>2.496970</td>\n",
       "      <td>14180.921212</td>\n",
       "      <td>4.872516e+05</td>\n",
       "      <td>47.252727</td>\n",
       "      <td>23.754485</td>\n",
       "      <td>23.498424</td>\n",
       "      <td>26.727879</td>\n",
       "      <td>13.769697</td>\n",
       "      <td>...</td>\n",
       "      <td>7.868902</td>\n",
       "      <td>99.442657</td>\n",
       "      <td>103.439860</td>\n",
       "      <td>76.816800</td>\n",
       "      <td>76.908800</td>\n",
       "      <td>68.780000</td>\n",
       "      <td>67.156800</td>\n",
       "      <td>0.175758</td>\n",
       "      <td>0.236364</td>\n",
       "      <td>0.393939</td>\n",
       "    </tr>\n",
       "    <tr>\n",
       "      <th>std</th>\n",
       "      <td>1.031493</td>\n",
       "      <td>47.595213</td>\n",
       "      <td>1.113248</td>\n",
       "      <td>19982.783382</td>\n",
       "      <td>1.948871e+06</td>\n",
       "      <td>161.088818</td>\n",
       "      <td>82.451802</td>\n",
       "      <td>78.651497</td>\n",
       "      <td>10.414446</td>\n",
       "      <td>8.795248</td>\n",
       "      <td>...</td>\n",
       "      <td>5.919621</td>\n",
       "      <td>15.818333</td>\n",
       "      <td>13.790322</td>\n",
       "      <td>31.608308</td>\n",
       "      <td>27.916286</td>\n",
       "      <td>36.584145</td>\n",
       "      <td>32.848809</td>\n",
       "      <td>0.381772</td>\n",
       "      <td>0.426141</td>\n",
       "      <td>0.490109</td>\n",
       "    </tr>\n",
       "    <tr>\n",
       "      <th>min</th>\n",
       "      <td>3.010000</td>\n",
       "      <td>1.000000</td>\n",
       "      <td>1.000000</td>\n",
       "      <td>118.000000</td>\n",
       "      <td>1.174000e+03</td>\n",
       "      <td>0.110000</td>\n",
       "      <td>0.060000</td>\n",
       "      <td>0.050000</td>\n",
       "      <td>11.600000</td>\n",
       "      <td>2.900000</td>\n",
       "      <td>...</td>\n",
       "      <td>0.100000</td>\n",
       "      <td>39.200000</td>\n",
       "      <td>48.000000</td>\n",
       "      <td>7.400000</td>\n",
       "      <td>11.900000</td>\n",
       "      <td>2.900000</td>\n",
       "      <td>5.300000</td>\n",
       "      <td>0.000000</td>\n",
       "      <td>0.000000</td>\n",
       "      <td>0.000000</td>\n",
       "    </tr>\n",
       "    <tr>\n",
       "      <th>25%</th>\n",
       "      <td>5.950000</td>\n",
       "      <td>42.000000</td>\n",
       "      <td>2.000000</td>\n",
       "      <td>1830.000000</td>\n",
       "      <td>1.336800e+04</td>\n",
       "      <td>3.740000</td>\n",
       "      <td>1.950000</td>\n",
       "      <td>1.760000</td>\n",
       "      <td>17.200000</td>\n",
       "      <td>5.900000</td>\n",
       "      <td>...</td>\n",
       "      <td>3.900000</td>\n",
       "      <td>96.750000</td>\n",
       "      <td>98.800000</td>\n",
       "      <td>54.200000</td>\n",
       "      <td>60.300000</td>\n",
       "      <td>34.000000</td>\n",
       "      <td>40.800000</td>\n",
       "      <td>0.000000</td>\n",
       "      <td>0.000000</td>\n",
       "      <td>0.000000</td>\n",
       "    </tr>\n",
       "    <tr>\n",
       "      <th>50%</th>\n",
       "      <td>6.640000</td>\n",
       "      <td>83.000000</td>\n",
       "      <td>2.000000</td>\n",
       "      <td>5013.000000</td>\n",
       "      <td>4.812500e+04</td>\n",
       "      <td>10.490000</td>\n",
       "      <td>5.320000</td>\n",
       "      <td>5.320000</td>\n",
       "      <td>25.400000</td>\n",
       "      <td>11.300000</td>\n",
       "      <td>...</td>\n",
       "      <td>5.900000</td>\n",
       "      <td>101.000000</td>\n",
       "      <td>102.600000</td>\n",
       "      <td>84.900000</td>\n",
       "      <td>83.300000</td>\n",
       "      <td>75.600000</td>\n",
       "      <td>71.200000</td>\n",
       "      <td>0.000000</td>\n",
       "      <td>0.000000</td>\n",
       "      <td>0.000000</td>\n",
       "    </tr>\n",
       "    <tr>\n",
       "      <th>75%</th>\n",
       "      <td>7.470000</td>\n",
       "      <td>124.000000</td>\n",
       "      <td>3.000000</td>\n",
       "      <td>17871.000000</td>\n",
       "      <td>2.743580e+05</td>\n",
       "      <td>33.940000</td>\n",
       "      <td>17.020000</td>\n",
       "      <td>16.780000</td>\n",
       "      <td>34.700000</td>\n",
       "      <td>22.200000</td>\n",
       "      <td>...</td>\n",
       "      <td>10.375000</td>\n",
       "      <td>106.200000</td>\n",
       "      <td>111.000000</td>\n",
       "      <td>97.900000</td>\n",
       "      <td>96.500000</td>\n",
       "      <td>95.900000</td>\n",
       "      <td>93.300000</td>\n",
       "      <td>0.000000</td>\n",
       "      <td>0.000000</td>\n",
       "      <td>1.000000</td>\n",
       "    </tr>\n",
       "    <tr>\n",
       "      <th>max</th>\n",
       "      <td>8.560000</td>\n",
       "      <td>165.000000</td>\n",
       "      <td>4.000000</td>\n",
       "      <td>117182.000000</td>\n",
       "      <td>1.924706e+07</td>\n",
       "      <td>1425.890000</td>\n",
       "      <td>731.180000</td>\n",
       "      <td>698.240000</td>\n",
       "      <td>48.800000</td>\n",
       "      <td>35.800000</td>\n",
       "      <td>...</td>\n",
       "      <td>33.500000</td>\n",
       "      <td>135.800000</td>\n",
       "      <td>142.000000</td>\n",
       "      <td>169.100000</td>\n",
       "      <td>151.100000</td>\n",
       "      <td>162.400000</td>\n",
       "      <td>147.200000</td>\n",
       "      <td>1.000000</td>\n",
       "      <td>1.000000</td>\n",
       "      <td>1.000000</td>\n",
       "    </tr>\n",
       "  </tbody>\n",
       "</table>\n",
       "<p>8 rows × 26 columns</p>\n",
       "</div>"
      ],
      "text/plain": [
       "       Economic Freedom Summary Index        Rank    Quartile  GDP_PerCapita  \\\n",
       "count                      165.000000  165.000000  165.000000     165.000000   \n",
       "mean                         6.627576   82.975758    2.496970   14180.921212   \n",
       "std                          1.031493   47.595213    1.113248   19982.783382   \n",
       "min                          3.010000    1.000000    1.000000     118.000000   \n",
       "25%                          5.950000   42.000000    2.000000    1830.000000   \n",
       "50%                          6.640000   83.000000    2.000000    5013.000000   \n",
       "75%                          7.470000  124.000000    3.000000   17871.000000   \n",
       "max                          8.560000  165.000000    4.000000  117182.000000   \n",
       "\n",
       "       GDP_2010Prices_Millions     Pop_mill  Pop_male_mill  Pop_female_mill  \\\n",
       "count             1.650000e+02   165.000000     165.000000       165.000000   \n",
       "mean              4.872516e+05    47.252727      23.754485        23.498424   \n",
       "std               1.948871e+06   161.088818      82.451802        78.651497   \n",
       "min               1.174000e+03     0.110000       0.060000         0.050000   \n",
       "25%               1.336800e+04     3.740000       1.950000         1.760000   \n",
       "50%               4.812500e+04    10.490000       5.320000         5.320000   \n",
       "75%               2.743580e+05    33.940000      17.020000        16.780000   \n",
       "max               1.924706e+07  1425.890000     731.180000       698.240000   \n",
       "\n",
       "       Pop_0_14_per  Pop_60_plus_per  ...  Unemp_Total  \\\n",
       "count    165.000000       165.000000  ...   164.000000   \n",
       "mean      26.727879        13.769697  ...     7.868902   \n",
       "std       10.414446         8.795248  ...     5.919621   \n",
       "min       11.600000         2.900000  ...     0.100000   \n",
       "25%       17.200000         5.900000  ...     3.900000   \n",
       "50%       25.400000        11.300000  ...     5.900000   \n",
       "75%       34.700000        22.200000  ...    10.375000   \n",
       "max       48.800000        35.800000  ...    33.500000   \n",
       "\n",
       "       Enroll_Ratio_Primary_Female  Enroll_Ratio_Primary_Male  \\\n",
       "count                   143.000000                 143.000000   \n",
       "mean                     99.442657                 103.439860   \n",
       "std                      15.818333                  13.790322   \n",
       "min                      39.200000                  48.000000   \n",
       "25%                      96.750000                  98.800000   \n",
       "50%                     101.000000                 102.600000   \n",
       "75%                     106.200000                 111.000000   \n",
       "max                     135.800000                 142.000000   \n",
       "\n",
       "       Enroll_Ratio_Secondary_Female  Enroll_Ratio_Secondary_Male  \\\n",
       "count                     125.000000                   125.000000   \n",
       "mean                       76.816800                    76.908800   \n",
       "std                        31.608308                    27.916286   \n",
       "min                         7.400000                    11.900000   \n",
       "25%                        54.200000                    60.300000   \n",
       "50%                        84.900000                    83.300000   \n",
       "75%                        97.900000                    96.500000   \n",
       "max                       169.100000                   151.100000   \n",
       "\n",
       "       Enroll_Ratio_UpperSecondary_Female  Enroll_Ratio_UpperSecondary_Male  \\\n",
       "count                          125.000000                        125.000000   \n",
       "mean                            68.780000                         67.156800   \n",
       "std                             36.584145                         32.848809   \n",
       "min                              2.900000                          5.300000   \n",
       "25%                             34.000000                         40.800000   \n",
       "50%                             75.600000                         71.200000   \n",
       "75%                             95.900000                         93.300000   \n",
       "max                            162.400000                        147.200000   \n",
       "\n",
       "       Landlocked?        LDC?    English?  \n",
       "count   165.000000  165.000000  165.000000  \n",
       "mean      0.175758    0.236364    0.393939  \n",
       "std       0.381772    0.426141    0.490109  \n",
       "min       0.000000    0.000000    0.000000  \n",
       "25%       0.000000    0.000000    0.000000  \n",
       "50%       0.000000    0.000000    0.000000  \n",
       "75%       0.000000    0.000000    1.000000  \n",
       "max       1.000000    1.000000    1.000000  \n",
       "\n",
       "[8 rows x 26 columns]"
      ]
     },
     "execution_count": 29,
     "metadata": {},
     "output_type": "execute_result"
    }
   ],
   "source": [
    "df_recent.describe() # check"
   ]
  },
  {
   "cell_type": "code",
   "execution_count": 36,
   "id": "83fa646b",
   "metadata": {},
   "outputs": [],
   "source": [
    "# Keep only columns for heatmap.\n",
    "df_recent_sub = df_recent[['Country','Economic Freedom Summary Index','CPI_Food', 'Enroll_Ratio_UpperSecondary_Female', 'GDP_PerCapita',\n",
    "                          'Landlocked?', 'LDC?', 'Pop_0_14_per', 'Pop_60_plus_per', 'Unemp_Total']]"
   ]
  },
  {
   "cell_type": "code",
   "execution_count": 37,
   "id": "700535ef",
   "metadata": {},
   "outputs": [
    {
     "name": "stdout",
     "output_type": "stream",
     "text": [
      "      Country  Economic Freedom Summary Index  CPI_Food  \\\n",
      "0     Albania                            7.60     144.9   \n",
      "1     Algeria                            4.82     161.7   \n",
      "2      Angola                            5.38       NaN   \n",
      "3   Argentina                            4.77     517.0   \n",
      "4     Armenia                            7.58       NaN   \n",
      "5   Australia                            8.05     117.9   \n",
      "6     Austria                            7.69     124.8   \n",
      "7  Azerbaijan                            5.99     188.5   \n",
      "8     Bahamas                            6.55       NaN   \n",
      "9     Bahrain                            7.44     126.6   \n",
      "\n",
      "   Enroll_Ratio_UpperSecondary_Female  GDP_PerCapita  Landlocked?  LDC?  \\\n",
      "0                                56.8         5181.0            0     0   \n",
      "1                                62.4         3368.0            0     0   \n",
      "2                                 NaN         1896.0            0     1   \n",
      "3                                75.6         8476.0            0     0   \n",
      "4                                 NaN         4266.0            1     0   \n",
      "5                                 NaN        55823.0            0     0   \n",
      "6                                94.3        48106.0            0     0   \n",
      "7                                 NaN         4202.0            1     0   \n",
      "8                                82.6        25194.0            0     0   \n",
      "9                                97.3        19925.0            0     0   \n",
      "\n",
      "   Pop_0_14_per  Pop_60_plus_per  Unemp_Total  \n",
      "0          16.1             23.5         10.9  \n",
      "1          30.6              9.7         12.2  \n",
      "2          45.0              4.3          8.3  \n",
      "3          23.1             16.2         10.6  \n",
      "4          20.5             20.3         20.8  \n",
      "5          18.2             22.6          5.0  \n",
      "6          14.4             26.7          5.4  \n",
      "7          23.5             12.5          6.6  \n",
      "8          19.1             13.9         12.9  \n",
      "9          20.2              6.9          1.8  \n",
      "(165, 10)\n"
     ]
    }
   ],
   "source": [
    "# check\n",
    "print(df_recent_sub.head(10))\n",
    "print(df_recent_sub.shape)"
   ]
  },
  {
   "cell_type": "code",
   "execution_count": null,
   "id": "8479fac5",
   "metadata": {},
   "outputs": [],
   "source": []
  },
  {
   "cell_type": "code",
   "execution_count": 38,
   "id": "c74b34e1",
   "metadata": {},
   "outputs": [
    {
     "data": {
      "text/plain": [
       "['Economic Freedom Summary Index',\n",
       " 'CPI_Food',\n",
       " 'Enroll_Ratio_UpperSecondary_Female',\n",
       " 'GDP_PerCapita',\n",
       " 'Landlocked?',\n",
       " 'LDC?',\n",
       " 'Pop_0_14_per',\n",
       " 'Pop_60_plus_per',\n",
       " 'Unemp_Total']"
      ]
     },
     "execution_count": 38,
     "metadata": {},
     "output_type": "execute_result"
    }
   ],
   "source": [
    "# Storing measure / numerical column names in \"measure_cols' list\n",
    "measure_cols = [i for i in df_recent_sub.select_dtypes(include=np.number).columns]\n",
    "measure_cols"
   ]
  },
  {
   "cell_type": "code",
   "execution_count": 39,
   "id": "82123865",
   "metadata": {},
   "outputs": [
    {
     "data": {
      "text/plain": [
       "['Country']"
      ]
     },
     "execution_count": 39,
     "metadata": {},
     "output_type": "execute_result"
    }
   ],
   "source": [
    "# Storing categorial column naes in \"cat_cols\" list\n",
    "cat_cols = [i for i in df_recent_sub.columns if i not in measure_cols]\n",
    "cat_cols"
   ]
  },
  {
   "cell_type": "code",
   "execution_count": 40,
   "id": "5b334a54",
   "metadata": {},
   "outputs": [
    {
     "data": {
      "text/html": [
       "<div>\n",
       "<style scoped>\n",
       "    .dataframe tbody tr th:only-of-type {\n",
       "        vertical-align: middle;\n",
       "    }\n",
       "\n",
       "    .dataframe tbody tr th {\n",
       "        vertical-align: top;\n",
       "    }\n",
       "\n",
       "    .dataframe thead th {\n",
       "        text-align: right;\n",
       "    }\n",
       "</style>\n",
       "<table border=\"1\" class=\"dataframe\">\n",
       "  <thead>\n",
       "    <tr style=\"text-align: right;\">\n",
       "      <th></th>\n",
       "      <th>Country</th>\n",
       "      <th>variable</th>\n",
       "      <th>value</th>\n",
       "    </tr>\n",
       "  </thead>\n",
       "  <tbody>\n",
       "    <tr>\n",
       "      <th>0</th>\n",
       "      <td>Albania</td>\n",
       "      <td>Economic Freedom Summary Index</td>\n",
       "      <td>7.60</td>\n",
       "    </tr>\n",
       "    <tr>\n",
       "      <th>1</th>\n",
       "      <td>Algeria</td>\n",
       "      <td>Economic Freedom Summary Index</td>\n",
       "      <td>4.82</td>\n",
       "    </tr>\n",
       "    <tr>\n",
       "      <th>2</th>\n",
       "      <td>Angola</td>\n",
       "      <td>Economic Freedom Summary Index</td>\n",
       "      <td>5.38</td>\n",
       "    </tr>\n",
       "    <tr>\n",
       "      <th>3</th>\n",
       "      <td>Argentina</td>\n",
       "      <td>Economic Freedom Summary Index</td>\n",
       "      <td>4.77</td>\n",
       "    </tr>\n",
       "    <tr>\n",
       "      <th>4</th>\n",
       "      <td>Armenia</td>\n",
       "      <td>Economic Freedom Summary Index</td>\n",
       "      <td>7.58</td>\n",
       "    </tr>\n",
       "    <tr>\n",
       "      <th>...</th>\n",
       "      <td>...</td>\n",
       "      <td>...</td>\n",
       "      <td>...</td>\n",
       "    </tr>\n",
       "    <tr>\n",
       "      <th>1480</th>\n",
       "      <td>Venezuela</td>\n",
       "      <td>Unemp_Total</td>\n",
       "      <td>5.50</td>\n",
       "    </tr>\n",
       "    <tr>\n",
       "      <th>1481</th>\n",
       "      <td>Vietnam</td>\n",
       "      <td>Unemp_Total</td>\n",
       "      <td>2.30</td>\n",
       "    </tr>\n",
       "    <tr>\n",
       "      <th>1482</th>\n",
       "      <td>Yemen</td>\n",
       "      <td>Unemp_Total</td>\n",
       "      <td>13.30</td>\n",
       "    </tr>\n",
       "    <tr>\n",
       "      <th>1483</th>\n",
       "      <td>Zambia</td>\n",
       "      <td>Unemp_Total</td>\n",
       "      <td>13.00</td>\n",
       "    </tr>\n",
       "    <tr>\n",
       "      <th>1484</th>\n",
       "      <td>Zimbabwe</td>\n",
       "      <td>Unemp_Total</td>\n",
       "      <td>5.00</td>\n",
       "    </tr>\n",
       "  </tbody>\n",
       "</table>\n",
       "<p>1485 rows × 3 columns</p>\n",
       "</div>"
      ],
      "text/plain": [
       "        Country                        variable  value\n",
       "0       Albania  Economic Freedom Summary Index   7.60\n",
       "1       Algeria  Economic Freedom Summary Index   4.82\n",
       "2        Angola  Economic Freedom Summary Index   5.38\n",
       "3     Argentina  Economic Freedom Summary Index   4.77\n",
       "4       Armenia  Economic Freedom Summary Index   7.58\n",
       "...         ...                             ...    ...\n",
       "1480  Venezuela                     Unemp_Total   5.50\n",
       "1481    Vietnam                     Unemp_Total   2.30\n",
       "1482      Yemen                     Unemp_Total  13.30\n",
       "1483     Zambia                     Unemp_Total  13.00\n",
       "1484   Zimbabwe                     Unemp_Total   5.00\n",
       "\n",
       "[1485 rows x 3 columns]"
      ]
     },
     "execution_count": 40,
     "metadata": {},
     "output_type": "execute_result"
    }
   ],
   "source": [
    "# Data to long format -- check\n",
    "df_recent_sub.melt(id_vars=cat_cols)"
   ]
  },
  {
   "cell_type": "code",
   "execution_count": null,
   "id": "c37b8792",
   "metadata": {},
   "outputs": [],
   "source": []
  },
  {
   "cell_type": "markdown",
   "id": "ce7ac711",
   "metadata": {},
   "source": [
    "### 4. Exporting data to csv file"
   ]
  },
  {
   "cell_type": "code",
   "execution_count": 42,
   "id": "b4d7e281",
   "metadata": {},
   "outputs": [],
   "source": [
    "# Exporting data in long format\n",
    "\n",
    "df_recent_sub.melt(id_vars=cat_cols).to_csv(os.path.join(path, '02 Data', 'Prepared Data', 'pivoted_churn.csv'))"
   ]
  },
  {
   "cell_type": "code",
   "execution_count": null,
   "id": "b4211e6f",
   "metadata": {},
   "outputs": [],
   "source": []
  },
  {
   "cell_type": "code",
   "execution_count": null,
   "id": "89a81fb0",
   "metadata": {},
   "outputs": [],
   "source": []
  }
 ],
 "metadata": {
  "kernelspec": {
   "display_name": "Python 3 (ipykernel)",
   "language": "python",
   "name": "python3"
  },
  "language_info": {
   "codemirror_mode": {
    "name": "ipython",
    "version": 3
   },
   "file_extension": ".py",
   "mimetype": "text/x-python",
   "name": "python",
   "nbconvert_exporter": "python",
   "pygments_lexer": "ipython3",
   "version": "3.10.9"
  }
 },
 "nbformat": 4,
 "nbformat_minor": 5
}
